{
  "nbformat": 4,
  "nbformat_minor": 0,
  "metadata": {
    "colab": {
      "name": "Satellite_Image_Classification_Model.ipynb",
      "provenance": [],
      "collapsed_sections": []
    },
    "kernelspec": {
      "name": "python3",
      "display_name": "Python 3"
    },
    "language_info": {
      "name": "python"
    },
    "accelerator": "GPU",
    "widgets": {
      "application/vnd.jupyter.widget-state+json": {
        "0e213378d79a41e988d4803ba511ee83": {
          "model_module": "@jupyter-widgets/controls",
          "model_name": "HBoxModel",
          "model_module_version": "1.5.0",
          "state": {
            "_dom_classes": [],
            "_model_module": "@jupyter-widgets/controls",
            "_model_module_version": "1.5.0",
            "_model_name": "HBoxModel",
            "_view_count": null,
            "_view_module": "@jupyter-widgets/controls",
            "_view_module_version": "1.5.0",
            "_view_name": "HBoxView",
            "box_style": "",
            "children": [
              "IPY_MODEL_57c049314e274de988e954f8793fb1e9",
              "IPY_MODEL_6a88aec3169448cb8ec95e89c2046416",
              "IPY_MODEL_35ddbb7e34d14d75bf26b24c397a62f6"
            ],
            "layout": "IPY_MODEL_4af1b010c36245c6a48014489716d2ec"
          }
        },
        "57c049314e274de988e954f8793fb1e9": {
          "model_module": "@jupyter-widgets/controls",
          "model_name": "HTMLModel",
          "model_module_version": "1.5.0",
          "state": {
            "_dom_classes": [],
            "_model_module": "@jupyter-widgets/controls",
            "_model_module_version": "1.5.0",
            "_model_name": "HTMLModel",
            "_view_count": null,
            "_view_module": "@jupyter-widgets/controls",
            "_view_module_version": "1.5.0",
            "_view_name": "HTMLView",
            "description": "",
            "description_tooltip": null,
            "layout": "IPY_MODEL_a542fc3096d947508ba22a95662b43e3",
            "placeholder": "​",
            "style": "IPY_MODEL_d3a1302818584ca7bf3f3acfb32f3bef",
            "value": "100%"
          }
        },
        "6a88aec3169448cb8ec95e89c2046416": {
          "model_module": "@jupyter-widgets/controls",
          "model_name": "FloatProgressModel",
          "model_module_version": "1.5.0",
          "state": {
            "_dom_classes": [],
            "_model_module": "@jupyter-widgets/controls",
            "_model_module_version": "1.5.0",
            "_model_name": "FloatProgressModel",
            "_view_count": null,
            "_view_module": "@jupyter-widgets/controls",
            "_view_module_version": "1.5.0",
            "_view_name": "ProgressView",
            "bar_style": "success",
            "description": "",
            "description_tooltip": null,
            "layout": "IPY_MODEL_1458d3ce81b24bb2b0b41d298b477abc",
            "max": 21444401,
            "min": 0,
            "orientation": "horizontal",
            "style": "IPY_MODEL_058bd0cde0bc4241898076ebd663d7a0",
            "value": 21444401
          }
        },
        "35ddbb7e34d14d75bf26b24c397a62f6": {
          "model_module": "@jupyter-widgets/controls",
          "model_name": "HTMLModel",
          "model_module_version": "1.5.0",
          "state": {
            "_dom_classes": [],
            "_model_module": "@jupyter-widgets/controls",
            "_model_module_version": "1.5.0",
            "_model_name": "HTMLModel",
            "_view_count": null,
            "_view_module": "@jupyter-widgets/controls",
            "_view_module_version": "1.5.0",
            "_view_name": "HTMLView",
            "description": "",
            "description_tooltip": null,
            "layout": "IPY_MODEL_1ee8905b00b84075abb0a58678825058",
            "placeholder": "​",
            "style": "IPY_MODEL_3e3c60a4608f4054b75ce181ce20f5e1",
            "value": " 20.5M/20.5M [00:00&lt;00:00, 55.7MB/s]"
          }
        },
        "4af1b010c36245c6a48014489716d2ec": {
          "model_module": "@jupyter-widgets/base",
          "model_name": "LayoutModel",
          "model_module_version": "1.2.0",
          "state": {
            "_model_module": "@jupyter-widgets/base",
            "_model_module_version": "1.2.0",
            "_model_name": "LayoutModel",
            "_view_count": null,
            "_view_module": "@jupyter-widgets/base",
            "_view_module_version": "1.2.0",
            "_view_name": "LayoutView",
            "align_content": null,
            "align_items": null,
            "align_self": null,
            "border": null,
            "bottom": null,
            "display": null,
            "flex": null,
            "flex_flow": null,
            "grid_area": null,
            "grid_auto_columns": null,
            "grid_auto_flow": null,
            "grid_auto_rows": null,
            "grid_column": null,
            "grid_gap": null,
            "grid_row": null,
            "grid_template_areas": null,
            "grid_template_columns": null,
            "grid_template_rows": null,
            "height": null,
            "justify_content": null,
            "justify_items": null,
            "left": null,
            "margin": null,
            "max_height": null,
            "max_width": null,
            "min_height": null,
            "min_width": null,
            "object_fit": null,
            "object_position": null,
            "order": null,
            "overflow": null,
            "overflow_x": null,
            "overflow_y": null,
            "padding": null,
            "right": null,
            "top": null,
            "visibility": null,
            "width": null
          }
        },
        "a542fc3096d947508ba22a95662b43e3": {
          "model_module": "@jupyter-widgets/base",
          "model_name": "LayoutModel",
          "model_module_version": "1.2.0",
          "state": {
            "_model_module": "@jupyter-widgets/base",
            "_model_module_version": "1.2.0",
            "_model_name": "LayoutModel",
            "_view_count": null,
            "_view_module": "@jupyter-widgets/base",
            "_view_module_version": "1.2.0",
            "_view_name": "LayoutView",
            "align_content": null,
            "align_items": null,
            "align_self": null,
            "border": null,
            "bottom": null,
            "display": null,
            "flex": null,
            "flex_flow": null,
            "grid_area": null,
            "grid_auto_columns": null,
            "grid_auto_flow": null,
            "grid_auto_rows": null,
            "grid_column": null,
            "grid_gap": null,
            "grid_row": null,
            "grid_template_areas": null,
            "grid_template_columns": null,
            "grid_template_rows": null,
            "height": null,
            "justify_content": null,
            "justify_items": null,
            "left": null,
            "margin": null,
            "max_height": null,
            "max_width": null,
            "min_height": null,
            "min_width": null,
            "object_fit": null,
            "object_position": null,
            "order": null,
            "overflow": null,
            "overflow_x": null,
            "overflow_y": null,
            "padding": null,
            "right": null,
            "top": null,
            "visibility": null,
            "width": null
          }
        },
        "d3a1302818584ca7bf3f3acfb32f3bef": {
          "model_module": "@jupyter-widgets/controls",
          "model_name": "DescriptionStyleModel",
          "model_module_version": "1.5.0",
          "state": {
            "_model_module": "@jupyter-widgets/controls",
            "_model_module_version": "1.5.0",
            "_model_name": "DescriptionStyleModel",
            "_view_count": null,
            "_view_module": "@jupyter-widgets/base",
            "_view_module_version": "1.2.0",
            "_view_name": "StyleView",
            "description_width": ""
          }
        },
        "1458d3ce81b24bb2b0b41d298b477abc": {
          "model_module": "@jupyter-widgets/base",
          "model_name": "LayoutModel",
          "model_module_version": "1.2.0",
          "state": {
            "_model_module": "@jupyter-widgets/base",
            "_model_module_version": "1.2.0",
            "_model_name": "LayoutModel",
            "_view_count": null,
            "_view_module": "@jupyter-widgets/base",
            "_view_module_version": "1.2.0",
            "_view_name": "LayoutView",
            "align_content": null,
            "align_items": null,
            "align_self": null,
            "border": null,
            "bottom": null,
            "display": null,
            "flex": null,
            "flex_flow": null,
            "grid_area": null,
            "grid_auto_columns": null,
            "grid_auto_flow": null,
            "grid_auto_rows": null,
            "grid_column": null,
            "grid_gap": null,
            "grid_row": null,
            "grid_template_areas": null,
            "grid_template_columns": null,
            "grid_template_rows": null,
            "height": null,
            "justify_content": null,
            "justify_items": null,
            "left": null,
            "margin": null,
            "max_height": null,
            "max_width": null,
            "min_height": null,
            "min_width": null,
            "object_fit": null,
            "object_position": null,
            "order": null,
            "overflow": null,
            "overflow_x": null,
            "overflow_y": null,
            "padding": null,
            "right": null,
            "top": null,
            "visibility": null,
            "width": null
          }
        },
        "058bd0cde0bc4241898076ebd663d7a0": {
          "model_module": "@jupyter-widgets/controls",
          "model_name": "ProgressStyleModel",
          "model_module_version": "1.5.0",
          "state": {
            "_model_module": "@jupyter-widgets/controls",
            "_model_module_version": "1.5.0",
            "_model_name": "ProgressStyleModel",
            "_view_count": null,
            "_view_module": "@jupyter-widgets/base",
            "_view_module_version": "1.2.0",
            "_view_name": "StyleView",
            "bar_color": null,
            "description_width": ""
          }
        },
        "1ee8905b00b84075abb0a58678825058": {
          "model_module": "@jupyter-widgets/base",
          "model_name": "LayoutModel",
          "model_module_version": "1.2.0",
          "state": {
            "_model_module": "@jupyter-widgets/base",
            "_model_module_version": "1.2.0",
            "_model_name": "LayoutModel",
            "_view_count": null,
            "_view_module": "@jupyter-widgets/base",
            "_view_module_version": "1.2.0",
            "_view_name": "LayoutView",
            "align_content": null,
            "align_items": null,
            "align_self": null,
            "border": null,
            "bottom": null,
            "display": null,
            "flex": null,
            "flex_flow": null,
            "grid_area": null,
            "grid_auto_columns": null,
            "grid_auto_flow": null,
            "grid_auto_rows": null,
            "grid_column": null,
            "grid_gap": null,
            "grid_row": null,
            "grid_template_areas": null,
            "grid_template_columns": null,
            "grid_template_rows": null,
            "height": null,
            "justify_content": null,
            "justify_items": null,
            "left": null,
            "margin": null,
            "max_height": null,
            "max_width": null,
            "min_height": null,
            "min_width": null,
            "object_fit": null,
            "object_position": null,
            "order": null,
            "overflow": null,
            "overflow_x": null,
            "overflow_y": null,
            "padding": null,
            "right": null,
            "top": null,
            "visibility": null,
            "width": null
          }
        },
        "3e3c60a4608f4054b75ce181ce20f5e1": {
          "model_module": "@jupyter-widgets/controls",
          "model_name": "DescriptionStyleModel",
          "model_module_version": "1.5.0",
          "state": {
            "_model_module": "@jupyter-widgets/controls",
            "_model_module_version": "1.5.0",
            "_model_name": "DescriptionStyleModel",
            "_view_count": null,
            "_view_module": "@jupyter-widgets/base",
            "_view_module_version": "1.2.0",
            "_view_name": "StyleView",
            "description_width": ""
          }
        }
      }
    }
  },
  "cells": [
    {
      "cell_type": "markdown",
      "source": [
        "*Mounting Gdrive*"
      ],
      "metadata": {
        "id": "llcdGzVaVVbX"
      }
    },
    {
      "cell_type": "code",
      "source": [
        "from google.colab import drive\n",
        "drive.mount('/content/gdrive')"
      ],
      "metadata": {
        "colab": {
          "base_uri": "https://localhost:8080/"
        },
        "id": "uJbG6wsxVU-s",
        "outputId": "6c891df4-b021-4541-b3ec-6f85617396b2"
      },
      "execution_count": 1,
      "outputs": [
        {
          "output_type": "stream",
          "name": "stdout",
          "text": [
            "Mounted at /content/gdrive\n"
          ]
        }
      ]
    },
    {
      "cell_type": "markdown",
      "source": [
        "*Process to retrieve Kaggle dataset in colab notebook via Gdrive*"
      ],
      "metadata": {
        "id": "-nNgPcJmUmPP"
      }
    },
    {
      "cell_type": "code",
      "source": [
        "!pip install kaggle"
      ],
      "metadata": {
        "colab": {
          "base_uri": "https://localhost:8080/"
        },
        "id": "O7Qq5v5QUlaJ",
        "outputId": "10c643e3-543e-4e3a-d473-86ee604dad28"
      },
      "execution_count": 2,
      "outputs": [
        {
          "output_type": "stream",
          "name": "stdout",
          "text": [
            "Requirement already satisfied: kaggle in /usr/local/lib/python3.7/dist-packages (1.5.12)\n",
            "Requirement already satisfied: urllib3 in /usr/local/lib/python3.7/dist-packages (from kaggle) (1.24.3)\n",
            "Requirement already satisfied: six>=1.10 in /usr/local/lib/python3.7/dist-packages (from kaggle) (1.15.0)\n",
            "Requirement already satisfied: tqdm in /usr/local/lib/python3.7/dist-packages (from kaggle) (4.64.0)\n",
            "Requirement already satisfied: certifi in /usr/local/lib/python3.7/dist-packages (from kaggle) (2021.10.8)\n",
            "Requirement already satisfied: python-slugify in /usr/local/lib/python3.7/dist-packages (from kaggle) (6.1.2)\n",
            "Requirement already satisfied: python-dateutil in /usr/local/lib/python3.7/dist-packages (from kaggle) (2.8.2)\n",
            "Requirement already satisfied: requests in /usr/local/lib/python3.7/dist-packages (from kaggle) (2.23.0)\n",
            "Requirement already satisfied: text-unidecode>=1.3 in /usr/local/lib/python3.7/dist-packages (from python-slugify->kaggle) (1.3)\n",
            "Requirement already satisfied: idna<3,>=2.5 in /usr/local/lib/python3.7/dist-packages (from requests->kaggle) (2.10)\n",
            "Requirement already satisfied: chardet<4,>=3.0.2 in /usr/local/lib/python3.7/dist-packages (from requests->kaggle) (3.0.4)\n"
          ]
        }
      ]
    },
    {
      "cell_type": "code",
      "source": [
        "# Change the current working directory where you want to download the kaggle dataset\n",
        "%cd /content/gdrive/MyDrive/Kaggle/        "
      ],
      "metadata": {
        "colab": {
          "base_uri": "https://localhost:8080/"
        },
        "id": "MQXCYZK6Vhvo",
        "outputId": "c8bd3af0-2e33-4454-aadc-2fedc88fc3e4"
      },
      "execution_count": 3,
      "outputs": [
        {
          "output_type": "stream",
          "name": "stdout",
          "text": [
            "/content/gdrive/MyDrive/Kaggle\n"
          ]
        }
      ]
    },
    {
      "cell_type": "code",
      "source": [
        "# Run the following code to configure the path to “kaggle.json”\n",
        "import os\n",
        "os.environ['KAGGLE_CONFIG_DIR'] = '/content/gdrive/MyDrive/Kaggle/'"
      ],
      "metadata": {
        "id": "1gSHaV4TV03V"
      },
      "execution_count": 4,
      "outputs": []
    },
    {
      "cell_type": "code",
      "source": [
        "# Downloading dataset\n",
        "!kaggle datasets download -d mahmoudreda55/satellite-image-classification"
      ],
      "metadata": {
        "colab": {
          "base_uri": "https://localhost:8080/"
        },
        "id": "DtwpILOSWET9",
        "outputId": "9fa9adfd-76cb-47be-d63a-4891530e204a"
      },
      "execution_count": 5,
      "outputs": [
        {
          "output_type": "stream",
          "name": "stdout",
          "text": [
            "Downloading satellite-image-classification.zip to /content/gdrive/MyDrive/Kaggle\n",
            " 23% 5.00M/21.8M [00:00<00:03, 5.27MB/s]\n",
            "100% 21.8M/21.8M [00:01<00:00, 21.3MB/s]\n"
          ]
        }
      ]
    },
    {
      "cell_type": "code",
      "source": [
        "# Creating a new directory on colab\n",
        "!mkdir /content/dataset"
      ],
      "metadata": {
        "id": "tCqwqA2xWPvp"
      },
      "execution_count": 6,
      "outputs": []
    },
    {
      "cell_type": "code",
      "source": [
        "# Unzip dataset\n",
        "!unzip -q /content/gdrive/MyDrive/Kaggle/satellite-image-classification.zip -d /content/dataset"
      ],
      "metadata": {
        "id": "8XzZhkXoWj7T"
      },
      "execution_count": 7,
      "outputs": []
    },
    {
      "cell_type": "code",
      "execution_count": 2,
      "metadata": {
        "id": "VPljv2_L2ASb",
        "colab": {
          "base_uri": "https://localhost:8080/"
        },
        "outputId": "8dc125d7-b190-40a8-e8a6-060ddc2d5ee6"
      },
      "outputs": [
        {
          "output_type": "stream",
          "name": "stdout",
          "text": [
            "Collecting timm\n",
            "  Downloading timm-0.5.4-py3-none-any.whl (431 kB)\n",
            "\u001b[?25l\r\u001b[K     |▊                               | 10 kB 26.2 MB/s eta 0:00:01\r\u001b[K     |█▌                              | 20 kB 23.0 MB/s eta 0:00:01\r\u001b[K     |██▎                             | 30 kB 11.8 MB/s eta 0:00:01\r\u001b[K     |███                             | 40 kB 9.5 MB/s eta 0:00:01\r\u001b[K     |███▉                            | 51 kB 3.7 MB/s eta 0:00:01\r\u001b[K     |████▋                           | 61 kB 4.3 MB/s eta 0:00:01\r\u001b[K     |█████▎                          | 71 kB 4.5 MB/s eta 0:00:01\r\u001b[K     |██████                          | 81 kB 5.1 MB/s eta 0:00:01\r\u001b[K     |██████▉                         | 92 kB 4.9 MB/s eta 0:00:01\r\u001b[K     |███████▋                        | 102 kB 4.3 MB/s eta 0:00:01\r\u001b[K     |████████▍                       | 112 kB 4.3 MB/s eta 0:00:01\r\u001b[K     |█████████▏                      | 122 kB 4.3 MB/s eta 0:00:01\r\u001b[K     |█████████▉                      | 133 kB 4.3 MB/s eta 0:00:01\r\u001b[K     |██████████▋                     | 143 kB 4.3 MB/s eta 0:00:01\r\u001b[K     |███████████▍                    | 153 kB 4.3 MB/s eta 0:00:01\r\u001b[K     |████████████▏                   | 163 kB 4.3 MB/s eta 0:00:01\r\u001b[K     |█████████████                   | 174 kB 4.3 MB/s eta 0:00:01\r\u001b[K     |█████████████▊                  | 184 kB 4.3 MB/s eta 0:00:01\r\u001b[K     |██████████████▍                 | 194 kB 4.3 MB/s eta 0:00:01\r\u001b[K     |███████████████▏                | 204 kB 4.3 MB/s eta 0:00:01\r\u001b[K     |████████████████                | 215 kB 4.3 MB/s eta 0:00:01\r\u001b[K     |████████████████▊               | 225 kB 4.3 MB/s eta 0:00:01\r\u001b[K     |█████████████████▌              | 235 kB 4.3 MB/s eta 0:00:01\r\u001b[K     |██████████████████▎             | 245 kB 4.3 MB/s eta 0:00:01\r\u001b[K     |███████████████████             | 256 kB 4.3 MB/s eta 0:00:01\r\u001b[K     |███████████████████▊            | 266 kB 4.3 MB/s eta 0:00:01\r\u001b[K     |████████████████████▌           | 276 kB 4.3 MB/s eta 0:00:01\r\u001b[K     |█████████████████████▎          | 286 kB 4.3 MB/s eta 0:00:01\r\u001b[K     |██████████████████████          | 296 kB 4.3 MB/s eta 0:00:01\r\u001b[K     |██████████████████████▉         | 307 kB 4.3 MB/s eta 0:00:01\r\u001b[K     |███████████████████████▌        | 317 kB 4.3 MB/s eta 0:00:01\r\u001b[K     |████████████████████████▎       | 327 kB 4.3 MB/s eta 0:00:01\r\u001b[K     |█████████████████████████       | 337 kB 4.3 MB/s eta 0:00:01\r\u001b[K     |█████████████████████████▉      | 348 kB 4.3 MB/s eta 0:00:01\r\u001b[K     |██████████████████████████▋     | 358 kB 4.3 MB/s eta 0:00:01\r\u001b[K     |███████████████████████████▍    | 368 kB 4.3 MB/s eta 0:00:01\r\u001b[K     |████████████████████████████    | 378 kB 4.3 MB/s eta 0:00:01\r\u001b[K     |████████████████████████████▉   | 389 kB 4.3 MB/s eta 0:00:01\r\u001b[K     |█████████████████████████████▋  | 399 kB 4.3 MB/s eta 0:00:01\r\u001b[K     |██████████████████████████████▍ | 409 kB 4.3 MB/s eta 0:00:01\r\u001b[K     |███████████████████████████████▏| 419 kB 4.3 MB/s eta 0:00:01\r\u001b[K     |████████████████████████████████| 430 kB 4.3 MB/s eta 0:00:01\r\u001b[K     |████████████████████████████████| 431 kB 4.3 MB/s \n",
            "\u001b[?25hRequirement already satisfied: torchvision in /usr/local/lib/python3.7/dist-packages (from timm) (0.12.0+cu113)\n",
            "Requirement already satisfied: torch>=1.4 in /usr/local/lib/python3.7/dist-packages (from timm) (1.11.0+cu113)\n",
            "Requirement already satisfied: typing-extensions in /usr/local/lib/python3.7/dist-packages (from torch>=1.4->timm) (4.2.0)\n",
            "Requirement already satisfied: pillow!=8.3.*,>=5.3.0 in /usr/local/lib/python3.7/dist-packages (from torchvision->timm) (7.1.2)\n",
            "Requirement already satisfied: numpy in /usr/local/lib/python3.7/dist-packages (from torchvision->timm) (1.21.6)\n",
            "Requirement already satisfied: requests in /usr/local/lib/python3.7/dist-packages (from torchvision->timm) (2.23.0)\n",
            "Requirement already satisfied: chardet<4,>=3.0.2 in /usr/local/lib/python3.7/dist-packages (from requests->torchvision->timm) (3.0.4)\n",
            "Requirement already satisfied: urllib3!=1.25.0,!=1.25.1,<1.26,>=1.21.1 in /usr/local/lib/python3.7/dist-packages (from requests->torchvision->timm) (1.24.3)\n",
            "Requirement already satisfied: idna<3,>=2.5 in /usr/local/lib/python3.7/dist-packages (from requests->torchvision->timm) (2.10)\n",
            "Requirement already satisfied: certifi>=2017.4.17 in /usr/local/lib/python3.7/dist-packages (from requests->torchvision->timm) (2021.10.8)\n",
            "Installing collected packages: timm\n",
            "Successfully installed timm-0.5.4\n"
          ]
        }
      ],
      "source": [
        "! pip install timm"
      ]
    },
    {
      "cell_type": "code",
      "source": [
        "! nvidia-smi"
      ],
      "metadata": {
        "id": "YmdDnmyG2qnW",
        "colab": {
          "base_uri": "https://localhost:8080/"
        },
        "outputId": "2619595e-c4f4-468f-86f5-da0563b59a16"
      },
      "execution_count": 3,
      "outputs": [
        {
          "output_type": "stream",
          "name": "stdout",
          "text": [
            "Sat May 21 10:38:51 2022       \n",
            "+-----------------------------------------------------------------------------+\n",
            "| NVIDIA-SMI 460.32.03    Driver Version: 460.32.03    CUDA Version: 11.2     |\n",
            "|-------------------------------+----------------------+----------------------+\n",
            "| GPU  Name        Persistence-M| Bus-Id        Disp.A | Volatile Uncorr. ECC |\n",
            "| Fan  Temp  Perf  Pwr:Usage/Cap|         Memory-Usage | GPU-Util  Compute M. |\n",
            "|                               |                      |               MIG M. |\n",
            "|===============================+======================+======================|\n",
            "|   0  Tesla K80           Off  | 00000000:00:04.0 Off |                    0 |\n",
            "| N/A   72C    P8    33W / 149W |      0MiB / 11441MiB |      0%      Default |\n",
            "|                               |                      |                  N/A |\n",
            "+-------------------------------+----------------------+----------------------+\n",
            "                                                                               \n",
            "+-----------------------------------------------------------------------------+\n",
            "| Processes:                                                                  |\n",
            "|  GPU   GI   CI        PID   Type   Process name                  GPU Memory |\n",
            "|        ID   ID                                                   Usage      |\n",
            "|=============================================================================|\n",
            "|  No running processes found                                                 |\n",
            "+-----------------------------------------------------------------------------+\n"
          ]
        }
      ]
    },
    {
      "cell_type": "code",
      "source": [
        "import numpy as np\n",
        "import pandas as pd\n",
        "import os\n",
        "import torch\n",
        "import torchvision\n",
        "from torchvision import datasets, transforms\n",
        "from torch import nn, optim\n",
        "from torch.nn import functional as F\n",
        "from torch.utils.data import DataLoader, sampler, random_split\n",
        "from torchvision import models\n",
        "from tqdm import tqdm\n",
        "import time\n",
        "import copy\n",
        "import timm\n",
        "import matplotlib.image as mpimg\n",
        "import matplotlib.pyplot as plt\n",
        "import warnings\n",
        "warnings.filterwarnings('ignore')\n",
        "device = torch.device('cuda' if torch.cuda.is_available() else 'cpu')\n",
        "# device='cpu'\n",
        "device\n",
        "print(f\"Setup complete. Using torch : {torch.__version__} and torchvision : {torchvision.__version__} ({torch.cuda.get_device_properties(0).name if torch.cuda.is_available() else 'CPU'})\")"
      ],
      "metadata": {
        "id": "AYZ3JqnK21ge",
        "colab": {
          "base_uri": "https://localhost:8080/"
        },
        "outputId": "9a1a2901-491b-4b50-b2b9-8135c1dd643f"
      },
      "execution_count": 24,
      "outputs": [
        {
          "output_type": "stream",
          "name": "stdout",
          "text": [
            "Setup complete. Using torch : 1.11.0+cu113 and torchvision : 0.12.0+cu113 (Tesla K80)\n"
          ]
        }
      ]
    },
    {
      "cell_type": "code",
      "source": [
        "# root_path of dataset\n",
        "ROOT_PATH= '/content/gdrive/MyDrive/Kaggle/satellite-image-classification'"
      ],
      "metadata": {
        "id": "xHZE49bi5vmD"
      },
      "execution_count": 5,
      "outputs": []
    },
    {
      "cell_type": "code",
      "source": [
        "train_dir=os.path.join(ROOT_PATH, 'train')\n",
        "\n",
        "train_cloudy_dir=os.path.join(train_dir, 'cloudy')\n",
        "train_desert_dir=os.path.join(train_dir, 'desert')\n",
        "train_green_area_dir=os.path.join(train_dir, 'green_area')\n",
        "train_water_dir=os.path.join(train_dir, 'water')\n",
        "\n",
        "train_cloudy_fnames=os.listdir(train_cloudy_dir)\n",
        "train_desert_fnames=os.listdir(train_desert_dir)\n",
        "train_green_area_fnames=os.listdir(train_green_area_dir)\n",
        "train_water_fnames=os.listdir(train_water_dir)\n",
        "\n",
        "print(train_cloudy_fnames[:20])\n",
        "print(train_desert_fnames[:20])\n",
        "print(train_green_area_fnames[:20])\n",
        "print(train_water_fnames[:20])"
      ],
      "metadata": {
        "id": "eRccCSBV6rnL",
        "colab": {
          "base_uri": "https://localhost:8080/"
        },
        "outputId": "93c9666b-618d-48b3-f159-31ce09bcd63f"
      },
      "execution_count": 6,
      "outputs": [
        {
          "output_type": "stream",
          "name": "stdout",
          "text": [
            "['train_10173.jpg', 'train_10070.jpg', 'train_10166.jpg', 'train_10096.jpg', 'train_10021.jpg', 'train_101.jpg', 'train_10081.jpg', 'train_10043.jpg', 'train_10128.jpg', 'train_10581.jpg', 'train_10231.jpg', 'train_10621.jpg', 'train_10609.jpg', 'train_10538.jpg', 'train_10177.jpg', 'train_10406.jpg', 'train_10265.jpg', 'train_10201.jpg', 'train_10326.jpg', 'train_10225.jpg']\n",
            "['desert(1).jpg', 'desert(100).jpg', 'desert(101) (1).jpg', 'desert(101).jpg', 'desert(10).jpg', 'desert(104).jpg', 'desert(103).jpg', 'desert(102).jpg', 'desert(107).jpg', 'desert(106).jpg', 'desert(105).jpg', 'desert(114).jpg', 'desert(11).jpg', 'desert(119).jpg', 'desert(112).jpg', 'desert(12).jpg', 'desert(118).jpg', 'desert(109).jpg', 'desert(120).jpg', 'desert(113).jpg']\n",
            "['Forest_1404.jpg', 'Forest_1470.jpg', 'Forest_1691.jpg', 'Forest_1464.jpg', 'Forest_1480.jpg', 'Forest_1638.jpg', 'Forest_1731.jpg', 'Forest_1456.jpg', 'Forest_1419.jpg', 'Forest_1479.jpg', 'Forest_1488.jpg', 'Forest_1763.jpg', 'Forest_1591.jpg', 'Forest_163.jpg', 'Forest_165.jpg', 'Forest_1549.jpg', 'Forest_1782.jpg', 'Forest_1641.jpg', 'Forest_1637.jpg', 'Forest_164.jpg']\n",
            "['SeaLake_1.jpg', 'SeaLake_1009.jpg', 'SeaLake_1006.jpg', 'SeaLake_1004.jpg', 'SeaLake_101.jpg', 'SeaLake_1053.jpg', 'SeaLake_1072.jpg', 'SeaLake_1038.jpg', 'SeaLake_1058.jpg', 'SeaLake_1032.jpg', 'SeaLake_1018.jpg', 'SeaLake_1022.jpg', 'SeaLake_1070.jpg', 'SeaLake_1074.jpg', 'SeaLake_1060.jpg', 'SeaLake_1048.jpg', 'SeaLake_1059.jpg', 'SeaLake_1046.jpg', 'SeaLake_1034.jpg', 'SeaLake_1063.jpg']\n"
          ]
        }
      ]
    },
    {
      "cell_type": "code",
      "source": [
        "nrows=6\n",
        "ncols=4\n",
        "pic_index=0 # Index for iterating over images\n",
        "fig=plt.gcf()\n",
        "fig.set_size_inches(ncols*4, nrows*4)\n",
        "cloudy_img_path_list= [os.path.join(train_cloudy_dir, fname) for fname in train_cloudy_fnames[pic_index-8:pic_index]]\n",
        "print('cloudy_img_path_list', cloudy_img_path_list)\n",
        "\n",
        "desert_img_path_list= [os.path.join(train_desert_dir, fname) for fname in train_desert_fnames[pic_index-8:pic_index]]\n",
        "print('desert_img_path_list', desert_img_path_list)\n",
        "\n",
        "green_area_img_path_list= [os.path.join(train_green_area_dir, fname) for fname in train_green_area_fnames[pic_index-8:pic_index]]\n",
        "print('green_area_img_path_list', green_area_img_path_list)\n",
        "\n",
        "water_img_path_list=[os.path.join(train_water_dir, fname) for fname in train_water_fnames[pic_index-8:pic_index]]\n",
        "print('water_img_path_list', water_img_path_list)\n",
        "\n",
        "for i, img_path in enumerate(cloudy_img_path_list+desert_img_path_list+green_area_img_path_list+water_img_path_list):\n",
        "  # Set up subplot: subplot indices start at 1\n",
        "  sp=plt.subplot(nrows, ncols, i+1)\n",
        "  sp.axis('off') # Don't show axis (or gridlines)\n",
        "  img=mpimg.imread(img_path)\n",
        "  plt.imshow(img)\n",
        "plt.show()"
      ],
      "metadata": {
        "id": "2dwXuJChA48c",
        "colab": {
          "base_uri": "https://localhost:8080/",
          "height": 104
        },
        "outputId": "5d455272-47b9-402f-a226-f648e724baec"
      },
      "execution_count": 7,
      "outputs": [
        {
          "output_type": "stream",
          "name": "stdout",
          "text": [
            "cloudy_img_path_list []\n",
            "desert_img_path_list []\n",
            "green_area_img_path_list []\n",
            "water_img_path_list []\n"
          ]
        },
        {
          "output_type": "display_data",
          "data": {
            "text/plain": [
              "<Figure size 1152x1728 with 0 Axes>"
            ]
          },
          "metadata": {}
        }
      ]
    },
    {
      "cell_type": "markdown",
      "source": [
        "**Dataset Loader Function with different Augmentations**"
      ],
      "metadata": {
        "id": "nWArOijbltdd"
      }
    },
    {
      "cell_type": "code",
      "source": [
        "def get_dataset_loader(data_path, batch_size=256, train=False):\n",
        "  if train:\n",
        "    transform= transforms.Compose([\n",
        "    transforms.RandomHorizontalFlip(p=0.5), \n",
        "    transforms.RandomVerticalFlip(p=0.5), \n",
        "    transforms.RandomApply(torch.nn.ModuleList([transforms.ColorJitter(), transforms.GaussianBlur(3)]), p=0.1), \n",
        "    transforms.Resize(256), \n",
        "    transforms.CenterCrop(224), \n",
        "    transforms.ToTensor(),\n",
        "    transforms.Normalize((0.485, 0.456, 0.466), (0.229, 0.224, 0.255)), \n",
        "    transforms.RandomErasing(p=0.12, value='random')])\n",
        "    # Normalize input[channel]= (input[channel]-mean[channel])/std[channel]\n",
        "    \n",
        "    train_imgs=datasets.ImageFolder(os.path.join(ROOT_PATH, 'train/'), transform=transform)\n",
        "    print(f'We have {len(train_imgs)} Training images with {len(train_imgs.classes)} classes.')\n",
        "    len_train_images= int(len(train_imgs)*0.9)\n",
        "    len_val_images= int(len(train_imgs)-len_train_images)\n",
        "    train_dataset, val_dataset=random_split(train_imgs, [len_train_images, len_val_images])\n",
        "    train_dataloader= DataLoader(train_dataset, batch_size=batch_size, shuffle=True, num_workers=2, pin_memory=True)\n",
        "    val_dataloader= DataLoader(val_dataset, batch_size=batch_size, shuffle=True, num_workers=2, pin_memory=True)\n",
        "    return train_dataloader, val_dataloader, len(train_dataset), len(val_dataset)\n",
        "  else:\n",
        "    transform= transforms.Compose([\n",
        "    transforms.Resize(256),\n",
        "    transforms.CenterCrop(224),\n",
        "    transforms.ToTensor(),\n",
        "    transforms.Normalize((0.485, 0.456, 0.466), (0.229, 0.224, 0.255))                              \n",
        "    ])\n",
        "    test_imgs=datasets.ImageFolder(os.path.join(ROOT_PATH, 'test/'), transform=transform)\n",
        "    print(f'We have {len(test_imgs)} Testing images with {len(test_imgs.classes)} classes.')\n",
        "    test_dataloader=DataLoader(test_imgs, batch_size=batch_size, shuffle=True, num_workers=2, pin_memory=True)\n",
        "    return test_dataloader, len(test_imgs)"
      ],
      "metadata": {
        "id": "ZpGEmJu5GIOp"
      },
      "execution_count": 8,
      "outputs": []
    },
    {
      "cell_type": "markdown",
      "source": [
        "*Get number of classes*"
      ],
      "metadata": {
        "id": "je6UiPPjkbb4"
      }
    },
    {
      "cell_type": "code",
      "source": [
        "class_categories=datasets.ImageFolder(os.path.join(ROOT_PATH, 'train/')).classes\n",
        "# ['cloudy', 'desert', 'green_area', 'water']\n",
        "num_classes=len(class_categories)\n",
        "num_classes"
      ],
      "metadata": {
        "id": "q-5fQ96KjKWk",
        "colab": {
          "base_uri": "https://localhost:8080/"
        },
        "outputId": "6da2b5b1-1f8f-4e86-9f28-2e098164c7c8"
      },
      "execution_count": 9,
      "outputs": [
        {
          "output_type": "execute_result",
          "data": {
            "text/plain": [
              "4"
            ]
          },
          "metadata": {},
          "execution_count": 9
        }
      ]
    },
    {
      "cell_type": "markdown",
      "source": [
        "*Displaying a random Image*"
      ],
      "metadata": {
        "id": "Wzu4MqNbkhhB"
      }
    },
    {
      "cell_type": "code",
      "source": [
        "train_data=datasets.ImageFolder(os.path.join(ROOT_PATH, 'train/'))\n",
        "train_data[3][0]"
      ],
      "metadata": {
        "id": "xemSLMHLkGgU",
        "colab": {
          "base_uri": "https://localhost:8080/",
          "height": 273
        },
        "outputId": "c339f34c-604b-4a55-f770-1fc1337f1fca"
      },
      "execution_count": 14,
      "outputs": [
        {
          "output_type": "execute_result",
          "data": {
            "text/plain": [
              "<PIL.Image.Image image mode=RGB size=256x256 at 0x7F07C375C750>"
            ],
            "image/png": "[encoded data removed]"
          },
          "metadata": {},
          "execution_count": 14
        }
      ]
    },
    {
      "cell_type": "markdown",
      "source": [
        "*Invoke the get_dataset_loader() function to get all loaders (train, test, val)*"
      ],
      "metadata": {
        "id": "X8rvwMep3z2_"
      }
    },
    {
      "cell_type": "code",
      "source": [
        "BATCH_SIZE=32\n",
        "(train_dataloader, val_dataloader, len_train_dataloader, len_val_dataloader)= get_dataset_loader(ROOT_PATH, batch_size=BATCH_SIZE, train=True)\n",
        "(test_dataloader, len_test_dataloader)=get_dataset_loader(ROOT_PATH, batch_size=BATCH_SIZE, train=False)"
      ],
      "metadata": {
        "id": "3hImaORw3ypD",
        "colab": {
          "base_uri": "https://localhost:8080/"
        },
        "outputId": "969d3b01-8ca1-47e2-f47d-c65284cd146e"
      },
      "execution_count": 15,
      "outputs": [
        {
          "output_type": "stream",
          "name": "stdout",
          "text": [
            "We have 4000 Training images with 4 classes.\n",
            "We have 1631 Testing images with 4 classes.\n"
          ]
        }
      ]
    },
    {
      "cell_type": "code",
      "source": [
        "train_dataloader.dataset"
      ],
      "metadata": {
        "id": "jNHiYMuUl-HF",
        "colab": {
          "base_uri": "https://localhost:8080/"
        },
        "outputId": "64236792-4897-4c1b-9203-1bbffabf7db9"
      },
      "execution_count": 16,
      "outputs": [
        {
          "output_type": "execute_result",
          "data": {
            "text/plain": [
              "<torch.utils.data.dataset.Subset at 0x7f07c3502610>"
            ]
          },
          "metadata": {},
          "execution_count": 16
        }
      ]
    },
    {
      "cell_type": "code",
      "source": [
        "test_dataloader.dataset"
      ],
      "metadata": {
        "id": "9DSoFTxR73fs",
        "colab": {
          "base_uri": "https://localhost:8080/"
        },
        "outputId": "5bb5b406-b370-4556-cdba-eb072c6443c9"
      },
      "execution_count": 17,
      "outputs": [
        {
          "output_type": "execute_result",
          "data": {
            "text/plain": [
              "Dataset ImageFolder\n",
              "    Number of datapoints: 1631\n",
              "    Root location: /content/gdrive/MyDrive/Kaggle/satellite-image-classification/test/\n",
              "    StandardTransform\n",
              "Transform: Compose(\n",
              "               Resize(size=256, interpolation=bilinear, max_size=None, antialias=None)\n",
              "               CenterCrop(size=(224, 224))\n",
              "               ToTensor()\n",
              "               Normalize(mean=(0.485, 0.456, 0.466), std=(0.229, 0.224, 0.255))\n",
              "           )"
            ]
          },
          "metadata": {},
          "execution_count": 17
        }
      ]
    },
    {
      "cell_type": "code",
      "source": [
        "print(len(train_dataloader))\n",
        "print(len(val_dataloader))\n",
        "print(len(test_dataloader))\n",
        "print(len_train_dataloader, len_val_dataloader, len_test_dataloader)"
      ],
      "metadata": {
        "id": "RfiU-Cin789g",
        "colab": {
          "base_uri": "https://localhost:8080/"
        },
        "outputId": "33cb4b42-4e7b-423e-c941-590486c7488d"
      },
      "execution_count": 18,
      "outputs": [
        {
          "output_type": "stream",
          "name": "stdout",
          "text": [
            "113\n",
            "13\n",
            "51\n",
            "3600 400 1631\n"
          ]
        }
      ]
    },
    {
      "cell_type": "code",
      "source": [
        "dataloaders_dict={'train': train_dataloader, 'val': val_dataloader}\n",
        "dataset_sizes_dict={'train':len_train_dataloader, 'val': len_val_dataloader}"
      ],
      "metadata": {
        "id": "eeTOjGIv9pdl"
      },
      "execution_count": 19,
      "outputs": []
    },
    {
      "cell_type": "markdown",
      "source": [
        "**Now that all augmentation are applied, Plot some of those images.**\n",
        "\n",
        "what does next() and iter() do in PyTorch's DataLoader()?\n",
        "\n",
        "Basically iter() calls the **__iter__()** method on the train_loader.\n",
        "Now train_dataloader is an iterable or python iterator, and passing it to\n",
        "iter() returns an iterator which you can iterate through.\n",
        "so train_dataloader will return elements from our dataset batch by batch. This allows you to use it as for data in train_loader.\n",
        "next() then call the **__next__()** method on that iterator to get the first iteration.\n",
        "\n",
        "Running next() again will get the second item of the iterator, etc.\n",
        "so lets say, I run next() few more times. Each time i run next() will return next batch of size 32 of the iterator until there are no batches left.\n",
        "\n",
        "\n",
        "```\n",
        "it=iter(train_dataloader)\n",
        "first=next(it)\n",
        "second=next(it)\n",
        "```\n",
        "\n",
        "\n",
        "\n",
        "\n",
        "\n",
        "\n",
        "\n"
      ],
      "metadata": {
        "id": "oZBGhdZaBWHF"
      }
    },
    {
      "cell_type": "markdown",
      "source": [
        "*Check the shape of return inputs and labels from train_dataloader*"
      ],
      "metadata": {
        "id": "DWjAg3c4HbWB"
      }
    },
    {
      "cell_type": "code",
      "source": [
        "for i, (inputs, labels) in enumerate(train_dataloader):\n",
        "  print(inputs.shape, labels.shape)"
      ],
      "metadata": {
        "id": "0S_32v-VHGPd",
        "colab": {
          "base_uri": "https://localhost:8080/"
        },
        "outputId": "51bb5474-58e5-49f9-ab3a-b645b5c09e6e"
      },
      "execution_count": 20,
      "outputs": [
        {
          "output_type": "stream",
          "name": "stdout",
          "text": [
            "torch.Size([32, 3, 224, 224]) torch.Size([32])\n",
            "torch.Size([32, 3, 224, 224]) torch.Size([32])\n",
            "torch.Size([32, 3, 224, 224]) torch.Size([32])\n",
            "torch.Size([32, 3, 224, 224]) torch.Size([32])\n",
            "torch.Size([32, 3, 224, 224]) torch.Size([32])\n",
            "torch.Size([32, 3, 224, 224]) torch.Size([32])\n",
            "torch.Size([32, 3, 224, 224]) torch.Size([32])\n",
            "torch.Size([32, 3, 224, 224]) torch.Size([32])\n",
            "torch.Size([32, 3, 224, 224]) torch.Size([32])\n",
            "torch.Size([32, 3, 224, 224]) torch.Size([32])\n",
            "torch.Size([32, 3, 224, 224]) torch.Size([32])\n",
            "torch.Size([32, 3, 224, 224]) torch.Size([32])\n",
            "torch.Size([32, 3, 224, 224]) torch.Size([32])\n",
            "torch.Size([32, 3, 224, 224]) torch.Size([32])\n",
            "torch.Size([32, 3, 224, 224]) torch.Size([32])\n",
            "torch.Size([32, 3, 224, 224]) torch.Size([32])\n",
            "torch.Size([32, 3, 224, 224]) torch.Size([32])\n",
            "torch.Size([32, 3, 224, 224]) torch.Size([32])\n",
            "torch.Size([32, 3, 224, 224]) torch.Size([32])\n",
            "torch.Size([32, 3, 224, 224]) torch.Size([32])\n",
            "torch.Size([32, 3, 224, 224]) torch.Size([32])\n",
            "torch.Size([32, 3, 224, 224]) torch.Size([32])\n",
            "torch.Size([32, 3, 224, 224]) torch.Size([32])\n",
            "torch.Size([32, 3, 224, 224]) torch.Size([32])\n",
            "torch.Size([32, 3, 224, 224]) torch.Size([32])\n",
            "torch.Size([32, 3, 224, 224]) torch.Size([32])\n",
            "torch.Size([32, 3, 224, 224]) torch.Size([32])\n",
            "torch.Size([32, 3, 224, 224]) torch.Size([32])\n",
            "torch.Size([32, 3, 224, 224]) torch.Size([32])\n",
            "torch.Size([32, 3, 224, 224]) torch.Size([32])\n",
            "torch.Size([32, 3, 224, 224]) torch.Size([32])\n",
            "torch.Size([32, 3, 224, 224]) torch.Size([32])\n",
            "torch.Size([32, 3, 224, 224]) torch.Size([32])\n",
            "torch.Size([32, 3, 224, 224]) torch.Size([32])\n",
            "torch.Size([32, 3, 224, 224]) torch.Size([32])\n",
            "torch.Size([32, 3, 224, 224]) torch.Size([32])\n",
            "torch.Size([32, 3, 224, 224]) torch.Size([32])\n",
            "torch.Size([32, 3, 224, 224]) torch.Size([32])\n",
            "torch.Size([32, 3, 224, 224]) torch.Size([32])\n",
            "torch.Size([32, 3, 224, 224]) torch.Size([32])\n",
            "torch.Size([32, 3, 224, 224]) torch.Size([32])\n",
            "torch.Size([32, 3, 224, 224]) torch.Size([32])\n",
            "torch.Size([32, 3, 224, 224]) torch.Size([32])\n",
            "torch.Size([32, 3, 224, 224]) torch.Size([32])\n",
            "torch.Size([32, 3, 224, 224]) torch.Size([32])\n",
            "torch.Size([32, 3, 224, 224]) torch.Size([32])\n",
            "torch.Size([32, 3, 224, 224]) torch.Size([32])\n",
            "torch.Size([32, 3, 224, 224]) torch.Size([32])\n",
            "torch.Size([32, 3, 224, 224]) torch.Size([32])\n",
            "torch.Size([32, 3, 224, 224]) torch.Size([32])\n",
            "torch.Size([32, 3, 224, 224]) torch.Size([32])\n",
            "torch.Size([32, 3, 224, 224]) torch.Size([32])\n",
            "torch.Size([32, 3, 224, 224]) torch.Size([32])\n",
            "torch.Size([32, 3, 224, 224]) torch.Size([32])\n",
            "torch.Size([32, 3, 224, 224]) torch.Size([32])\n",
            "torch.Size([32, 3, 224, 224]) torch.Size([32])\n",
            "torch.Size([32, 3, 224, 224]) torch.Size([32])\n",
            "torch.Size([32, 3, 224, 224]) torch.Size([32])\n",
            "torch.Size([32, 3, 224, 224]) torch.Size([32])\n",
            "torch.Size([32, 3, 224, 224]) torch.Size([32])\n",
            "torch.Size([32, 3, 224, 224]) torch.Size([32])\n",
            "torch.Size([32, 3, 224, 224]) torch.Size([32])\n",
            "torch.Size([32, 3, 224, 224]) torch.Size([32])\n",
            "torch.Size([32, 3, 224, 224]) torch.Size([32])\n",
            "torch.Size([32, 3, 224, 224]) torch.Size([32])\n",
            "torch.Size([32, 3, 224, 224]) torch.Size([32])\n",
            "torch.Size([32, 3, 224, 224]) torch.Size([32])\n",
            "torch.Size([32, 3, 224, 224]) torch.Size([32])\n",
            "torch.Size([32, 3, 224, 224]) torch.Size([32])\n",
            "torch.Size([32, 3, 224, 224]) torch.Size([32])\n",
            "torch.Size([32, 3, 224, 224]) torch.Size([32])\n",
            "torch.Size([32, 3, 224, 224]) torch.Size([32])\n",
            "torch.Size([32, 3, 224, 224]) torch.Size([32])\n",
            "torch.Size([32, 3, 224, 224]) torch.Size([32])\n",
            "torch.Size([32, 3, 224, 224]) torch.Size([32])\n",
            "torch.Size([32, 3, 224, 224]) torch.Size([32])\n",
            "torch.Size([32, 3, 224, 224]) torch.Size([32])\n",
            "torch.Size([32, 3, 224, 224]) torch.Size([32])\n",
            "torch.Size([32, 3, 224, 224]) torch.Size([32])\n",
            "torch.Size([32, 3, 224, 224]) torch.Size([32])\n",
            "torch.Size([32, 3, 224, 224]) torch.Size([32])\n",
            "torch.Size([32, 3, 224, 224]) torch.Size([32])\n",
            "torch.Size([32, 3, 224, 224]) torch.Size([32])\n",
            "torch.Size([32, 3, 224, 224]) torch.Size([32])\n",
            "torch.Size([32, 3, 224, 224]) torch.Size([32])\n",
            "torch.Size([32, 3, 224, 224]) torch.Size([32])\n",
            "torch.Size([32, 3, 224, 224]) torch.Size([32])\n",
            "torch.Size([32, 3, 224, 224]) torch.Size([32])\n",
            "torch.Size([32, 3, 224, 224]) torch.Size([32])\n",
            "torch.Size([32, 3, 224, 224]) torch.Size([32])\n",
            "torch.Size([32, 3, 224, 224]) torch.Size([32])\n",
            "torch.Size([32, 3, 224, 224]) torch.Size([32])\n",
            "torch.Size([32, 3, 224, 224]) torch.Size([32])\n",
            "torch.Size([32, 3, 224, 224]) torch.Size([32])\n",
            "torch.Size([32, 3, 224, 224]) torch.Size([32])\n",
            "torch.Size([32, 3, 224, 224]) torch.Size([32])\n",
            "torch.Size([32, 3, 224, 224]) torch.Size([32])\n",
            "torch.Size([32, 3, 224, 224]) torch.Size([32])\n",
            "torch.Size([32, 3, 224, 224]) torch.Size([32])\n",
            "torch.Size([32, 3, 224, 224]) torch.Size([32])\n",
            "torch.Size([32, 3, 224, 224]) torch.Size([32])\n",
            "torch.Size([32, 3, 224, 224]) torch.Size([32])\n",
            "torch.Size([32, 3, 224, 224]) torch.Size([32])\n",
            "torch.Size([32, 3, 224, 224]) torch.Size([32])\n",
            "torch.Size([32, 3, 224, 224]) torch.Size([32])\n",
            "torch.Size([32, 3, 224, 224]) torch.Size([32])\n",
            "torch.Size([32, 3, 224, 224]) torch.Size([32])\n",
            "torch.Size([32, 3, 224, 224]) torch.Size([32])\n",
            "torch.Size([32, 3, 224, 224]) torch.Size([32])\n",
            "torch.Size([32, 3, 224, 224]) torch.Size([32])\n",
            "torch.Size([32, 3, 224, 224]) torch.Size([32])\n",
            "torch.Size([32, 3, 224, 224]) torch.Size([32])\n",
            "torch.Size([16, 3, 224, 224]) torch.Size([16])\n"
          ]
        }
      ]
    },
    {
      "cell_type": "code",
      "source": [
        "train_loader_iterable=iter(train_dataloader)\n",
        "images, labels= train_loader_iterable.next()\n",
        "# Now for displaying, I will have to convert images to Numpy\n",
        "images=images.numpy()\n",
        "\n",
        "fig=plt.figure(figsize=(25, 4))\n",
        "for idx in np.arange(20):\n",
        "  ax=fig.add_subplot(2, int(20/2), idx+1, xticks=[], yticks=[])\n",
        "  '''Dataloader output is a 4 dimensional array i.e. [batch_size, channel, height, width]. But Matplotlib and other image processing libraries \n",
        "   require [height, width, channel]. np.transpose() method converts tensor from [channel, height, width] to [height, width, channel] that is (1,2,0)\n",
        "   is used in plt.imshow() method below.'''\n",
        "  plt.imshow(np.transpose(images[idx], (1, 2, 0)))\n",
        "  ax.set_title(class_categories[labels[idx]])"
      ],
      "metadata": {
        "id": "gFKq3YzjHaIv",
        "colab": {
          "base_uri": "https://localhost:8080/",
          "height": 555
        },
        "outputId": "49ba8375-ec1f-493b-a05f-ecb73facc7ed"
      },
      "execution_count": 23,
      "outputs": [
        {
          "output_type": "stream",
          "name": "stderr",
          "text": [
            "Clipping input data to the valid range for imshow with RGB data ([0..1] for floats or [0..255] for integers).\n",
            "Clipping input data to the valid range for imshow with RGB data ([0..1] for floats or [0..255] for integers).\n",
            "Clipping input data to the valid range for imshow with RGB data ([0..1] for floats or [0..255] for integers).\n",
            "Clipping input data to the valid range for imshow with RGB data ([0..1] for floats or [0..255] for integers).\n",
            "Clipping input data to the valid range for imshow with RGB data ([0..1] for floats or [0..255] for integers).\n",
            "Clipping input data to the valid range for imshow with RGB data ([0..1] for floats or [0..255] for integers).\n",
            "Clipping input data to the valid range for imshow with RGB data ([0..1] for floats or [0..255] for integers).\n",
            "Clipping input data to the valid range for imshow with RGB data ([0..1] for floats or [0..255] for integers).\n",
            "Clipping input data to the valid range for imshow with RGB data ([0..1] for floats or [0..255] for integers).\n",
            "Clipping input data to the valid range for imshow with RGB data ([0..1] for floats or [0..255] for integers).\n",
            "Clipping input data to the valid range for imshow with RGB data ([0..1] for floats or [0..255] for integers).\n",
            "Clipping input data to the valid range for imshow with RGB data ([0..1] for floats or [0..255] for integers).\n",
            "Clipping input data to the valid range for imshow with RGB data ([0..1] for floats or [0..255] for integers).\n",
            "Clipping input data to the valid range for imshow with RGB data ([0..1] for floats or [0..255] for integers).\n",
            "Clipping input data to the valid range for imshow with RGB data ([0..1] for floats or [0..255] for integers).\n",
            "Clipping input data to the valid range for imshow with RGB data ([0..1] for floats or [0..255] for integers).\n",
            "Clipping input data to the valid range for imshow with RGB data ([0..1] for floats or [0..255] for integers).\n",
            "Clipping input data to the valid range for imshow with RGB data ([0..1] for floats or [0..255] for integers).\n",
            "Clipping input data to the valid range for imshow with RGB data ([0..1] for floats or [0..255] for integers).\n"
          ]
        },
        {
          "output_type": "display_data",
          "data": {
            "text/plain": [
              "<Figure size 1800x288 with 20 Axes>"
            ],
            "image/png": "[encoded data removed]"
          },
          "metadata": {}
        }
      ]
    },
    {
      "cell_type": "markdown",
      "source": [
        "*Load EfficientNet_b0 from torchvision models*"
      ],
      "metadata": {
        "id": "pJAW_almO1Rq"
      }
    },
    {
      "cell_type": "code",
      "source": [
        "torch.backends.cudnn.benchmark=True\n",
        "model=models.efficientnet_b0(pretrained=True)\n",
        "print('model.classifier:', model.classifier)\n",
        " \n",
        "for param in model.parameters():\n",
        "  param.requires_grad= False\n",
        "  ''' Dealing with pre-trained model, it is mandatory to set param.requires_grad= False. Freezing \n",
        "the computational base before compiling and training the model. It prevents the weights in these \n",
        "layer from being updated.\n",
        "'''\n",
        "num_inputs=model.classifier[1].in_features\n",
        "'''\n",
        "Now here is where I am adding additional layers to the pre-trained model.\n",
        "for nn.Linear - note the following\n",
        "in_features - size of each input sample\n",
        "out_features - size of each output sample\n",
        "'''\n",
        "model.classifier= nn.Sequential(\n",
        "    nn.Linear(num_inputs, 2048),\n",
        "    nn.SiLU(), # Sigmoid weighted Linear Unit\n",
        "    nn.Dropout(0.2),\n",
        "    # Note that the last layer is 2048*Number of classes\n",
        "    # Reshape the final layer(s) to have the same number of outputs as the number of class of the new dataset\n",
        "    nn.Linear(2048, len(class_categories))\n",
        ")\n",
        "model=model.to(device)\n",
        "print(model.classifier)"
      ],
      "metadata": {
        "id": "VSg7dbFKHZ8i",
        "colab": {
          "base_uri": "https://localhost:8080/",
          "height": 260,
          "referenced_widgets": [
            "0e213378d79a41e988d4803ba511ee83",
            "57c049314e274de988e954f8793fb1e9",
            "6a88aec3169448cb8ec95e89c2046416",
            "35ddbb7e34d14d75bf26b24c397a62f6",
            "4af1b010c36245c6a48014489716d2ec",
            "a542fc3096d947508ba22a95662b43e3",
            "d3a1302818584ca7bf3f3acfb32f3bef",
            "1458d3ce81b24bb2b0b41d298b477abc",
            "058bd0cde0bc4241898076ebd663d7a0",
            "1ee8905b00b84075abb0a58678825058",
            "3e3c60a4608f4054b75ce181ce20f5e1"
          ]
        },
        "outputId": "87db7416-effd-401c-c8f7-f90da8739773"
      },
      "execution_count": 25,
      "outputs": [
        {
          "output_type": "stream",
          "name": "stderr",
          "text": [
            "Downloading: \"https://download.pytorch.org/models/efficientnet_b0_rwightman-3dd342df.pth\" to /root/.cache/torch/hub/checkpoints/efficientnet_b0_rwightman-3dd342df.pth\n"
          ]
        },
        {
          "output_type": "display_data",
          "data": {
            "text/plain": [
              "  0%|          | 0.00/20.5M [00:00<?, ?B/s]"
            ],
            "application/vnd.jupyter.widget-view+json": {
              "version_major": 2,
              "version_minor": 0,
              "model_id": "0e213378d79a41e988d4803ba511ee83"
            }
          },
          "metadata": {}
        },
        {
          "output_type": "stream",
          "name": "stdout",
          "text": [
            "model.classifier: Sequential(\n",
            "  (0): Dropout(p=0.2, inplace=True)\n",
            "  (1): Linear(in_features=1280, out_features=1000, bias=True)\n",
            ")\n",
            "Sequential(\n",
            "  (0): Linear(in_features=1280, out_features=2048, bias=True)\n",
            "  (1): SiLU()\n",
            "  (2): Dropout(p=0.2, inplace=False)\n",
            "  (3): Linear(in_features=2048, out_features=4, bias=True)\n",
            ")\n"
          ]
        }
      ]
    },
    {
      "cell_type": "code",
      "source": [
        "'''Since i am dealing with multiclass classificiation problem that is why i\n",
        " used cross entropy loss. label smoothing in a nutshell is the way to make the\n",
        " model more robust so that it generalizes well. Fundamentally, it solves over\n",
        " confidence problem. label_smoothing is used when loss function is cross entropy loss\n",
        " and model applies the softmax function to the penaltimate layer logit vector\n",
        " to compute its probabilities.\n",
        " '''\n",
        "criterion=nn.CrossEntropyLoss(label_smoothing=0.11)\n",
        "criterion=criterion.to(device)\n",
        "optimizer=optim.AdamW(model.classifier.parameters(), lr=0.001)"
      ],
      "metadata": {
        "id": "34V7caPvziNI"
      },
      "execution_count": 26,
      "outputs": []
    },
    {
      "cell_type": "code",
      "source": [
        "exp_lr_scheduler=optim.lr_scheduler.StepLR(optimizer, step_size=3, gamma=0.8)\n",
        "# Change the learning rate based on number of epochs\n",
        "# Decays the learning rate of each parameter group by gamma every step_size epochs"
      ],
      "metadata": {
        "id": "SdMVl6Av3eLs"
      },
      "execution_count": 27,
      "outputs": []
    },
    {
      "cell_type": "code",
      "source": [
        "training_history= {'accuracy':[], 'loss':[]}\n",
        "val_history= {'accuracy':[], 'loss':[]}"
      ],
      "metadata": {
        "id": "RSeMYbL64koO"
      },
      "execution_count": 28,
      "outputs": []
    },
    {
      "cell_type": "markdown",
      "source": [
        "*Training the Model*\n",
        "    "
      ],
      "metadata": {
        "id": "85w_W_Ta47aN"
      }
    },
    {
      "cell_type": "code",
      "source": [
        "def train(model, criterion, optimizer, scheduler, num_epochs=65):\n",
        "  start_time = time.time()\n",
        "  \n",
        "  best_model_weights = copy.deepcopy(model.state_dict())\n",
        "  best_accuracy = 0.0\n",
        "  \n",
        "  for epoch in range(num_epochs):\n",
        "    print('Running epoch {}/{}'.format(epoch, num_epochs-1))\n",
        "    print('-' * 10)\n",
        "    \n",
        "    \"\"\" Within each epoch first configure training or eval mode \n",
        "    based on wheather I am in the 'train' or 'validation' phase.\n",
        "    \n",
        "    `model.train()` tells your model that you are training the model. So effectively layers like dropout, batchnorm etc.\n",
        "     which behave different on the train and test procedures know what is going on and hence can behave accordingly.\n",
        "    \n",
        "    In below, after I start the for loop for phase, the rest entire code for this train() function runs\n",
        "    within this for loop and at various stage passing the phase variable to be either 'train' or \n",
        "    'validation'\n",
        "    \n",
        "    \"\"\"\n",
        "    for phase in ['train', 'val']:\n",
        "      if phase == 'train':\n",
        "        model.train()\n",
        "      else:\n",
        "        model.eval()\n",
        "      \n",
        "      running_loss = 0.0\n",
        "      running_corrects = 0\n",
        "      \n",
        "      \"\"\" now start the iteration of the dataloaders_dict variable\n",
        "      i.e. for both 'train' and 'validation' phases \n",
        "      \n",
        "      Below loop, basically tells that, for every epoch the train_dataloader and then the validation_dataloader is invoked\n",
        "       which returns input and its corresponding label. \n",
        "      \n",
        "      \"\"\"\n",
        "      for inputs, labels in tqdm(dataloaders_dict[phase]):\n",
        "        inputs = inputs.to(device)\n",
        "        labels = labels.to(device)\n",
        "        \n",
        "        \"\"\" for every mini-batch during the training phase, we typically want to explicitly set the gradients \n",
        "        to zero before starting to do backpropragation \"\"\"\n",
        "        optimizer.zero_grad()\n",
        "        \n",
        "        \"\"\" Start the forward movement\n",
        "        tracking history for phase == 'train' \n",
        "        set_grad_enabled is a Context-manager that sets gradient calculation to on or off.\n",
        "\n",
        "        The argument to it is called mode (which is a boolean ), and this mode controls whether to enable grad (True), \n",
        "        or disable (False). This can be used to conditionally enable gradients.\n",
        "        \"\"\"\n",
        "        with torch.set_grad_enabled(phase == 'train'):\n",
        "          predicted_outputs = model(inputs)          \n",
        "          # print('outputs on which to apply torch.max ', outputs)\n",
        "          # find the maximum along the rows, use dim=1 to torch.max()\n",
        "          _, predictions = torch.max(predicted_outputs, 1)\n",
        "          \n",
        "          loss = criterion(predicted_outputs, labels)\n",
        "          \n",
        "          # Now for the 'train' phase, do backpropagation and update weights with step()\n",
        "          if phase == 'train':\n",
        "            loss.backward()\n",
        "            optimizer.step()\n",
        "            \n",
        "        \"\"\" Update the running loss and corrects \n",
        "        we need to use, loss.item() instead of loss alone in running_loss calculation and averaging. \n",
        "        Because loss gives you a grad_function, not a float value. \n",
        "        The item() method extracts the loss’s value as a Python float.\n",
        "        \"\"\"\n",
        "        running_loss += loss.item() * inputs.size(0)\n",
        "        running_corrects += torch.sum(predictions == labels.data)\n",
        "        \n",
        "      if phase == 'train':\n",
        "        scheduler.step()      \n",
        "      \n",
        "      epoch_loss = running_loss / dataset_sizes_dict[phase]\n",
        "      epoch_accuracy = running_corrects.double() / dataset_sizes_dict[phase]\n",
        "      \n",
        "      \"\"\" To summarize, in the above code what I did is\n",
        "      \n",
        "      1. => multiply each average batch loss with batch-length. \n",
        "      The batch-length is inputs.size(0) which gives the number total images in each batch. \n",
        "      Essentially I am un-averaging the Batch-Loss\n",
        "\n",
        "      Do this all the batches inside the batch-running loop.\n",
        "      And then after that loop, i.e. outside the batch-loop and coming back to my epoch-loop\n",
        "      \n",
        "      2. => Divide this accumulated un-averaged Batch-loss from all batches, \n",
        "      by the number of samples (len(train_dataloader)) to get the exact train loss average for the epoch \"\"\"\n",
        "      \n",
        "      \n",
        "      if phase == 'train':\n",
        "        training_history['loss'].append(epoch_loss)\n",
        "        training_history['accuracy'].append(epoch_accuracy)\n",
        "      elif phase == 'val':\n",
        "        val_history['loss'].append(epoch_loss)\n",
        "        val_history['accuracy'].append(epoch_accuracy)\n",
        "        \n",
        "      # finally update best_accuracy and deep copy the model\n",
        "      if phase == 'val' and epoch_accuracy > best_accuracy:\n",
        "        best_accuracy = epoch_accuracy\n",
        "        best_model_weights = copy.deepcopy(model.state_dict())\n",
        "  \n",
        "  time_elapsed = time.time() - start_time\n",
        "  print('Training complete in {:.0f}m {:.0f}s'.format(\n",
        "    time_elapsed // 60, time_elapsed % 60\n",
        "  ))\n",
        "  print('Best Val Accuracy: {:4f}'.format(best_accuracy))\n",
        "  \n",
        "  # loading best model weights\n",
        "  model.load_state_dict(best_model_weights)\n",
        "  return model"
      ],
      "metadata": {
        "id": "qj2ZaIy5ZtV2"
      },
      "execution_count": 29,
      "outputs": []
    },
    {
      "cell_type": "code",
      "source": [
        "model_trained= train(model, criterion, optimizer, exp_lr_scheduler, num_epochs=65)"
      ],
      "metadata": {
        "colab": {
          "base_uri": "https://localhost:8080/"
        },
        "id": "zzPhvo1uSB3C",
        "outputId": "3984075b-7f35-42f2-df50-8aa6ebcbadaa"
      },
      "execution_count": 30,
      "outputs": [
        {
          "output_type": "stream",
          "name": "stdout",
          "text": [
            "Running epoch 0/64\n",
            "----------\n"
          ]
        },
        {
          "output_type": "stream",
          "name": "stderr",
          "text": [
            "100%|██████████| 113/113 [00:20<00:00,  5.52it/s]\n",
            "100%|██████████| 13/13 [01:55<00:00,  8.87s/it]\n"
          ]
        },
        {
          "output_type": "stream",
          "name": "stdout",
          "text": [
            "Running epoch 1/64\n",
            "----------\n"
          ]
        },
        {
          "output_type": "stream",
          "name": "stderr",
          "text": [
            "100%|██████████| 113/113 [00:18<00:00,  6.00it/s]\n",
            "100%|██████████| 13/13 [00:02<00:00,  5.75it/s]\n"
          ]
        },
        {
          "output_type": "stream",
          "name": "stdout",
          "text": [
            "Running epoch 2/64\n",
            "----------\n"
          ]
        },
        {
          "output_type": "stream",
          "name": "stderr",
          "text": [
            "100%|██████████| 113/113 [00:19<00:00,  5.87it/s]\n",
            "100%|██████████| 13/13 [00:02<00:00,  5.60it/s]\n"
          ]
        },
        {
          "output_type": "stream",
          "name": "stdout",
          "text": [
            "Running epoch 3/64\n",
            "----------\n"
          ]
        },
        {
          "output_type": "stream",
          "name": "stderr",
          "text": [
            "100%|██████████| 113/113 [00:19<00:00,  5.92it/s]\n",
            "100%|██████████| 13/13 [00:02<00:00,  5.64it/s]\n"
          ]
        },
        {
          "output_type": "stream",
          "name": "stdout",
          "text": [
            "Running epoch 4/64\n",
            "----------\n"
          ]
        },
        {
          "output_type": "stream",
          "name": "stderr",
          "text": [
            "100%|██████████| 113/113 [00:19<00:00,  5.91it/s]\n",
            "100%|██████████| 13/13 [00:02<00:00,  5.41it/s]\n"
          ]
        },
        {
          "output_type": "stream",
          "name": "stdout",
          "text": [
            "Running epoch 5/64\n",
            "----------\n"
          ]
        },
        {
          "output_type": "stream",
          "name": "stderr",
          "text": [
            "100%|██████████| 113/113 [00:19<00:00,  5.88it/s]\n",
            "100%|██████████| 13/13 [00:02<00:00,  5.47it/s]\n"
          ]
        },
        {
          "output_type": "stream",
          "name": "stdout",
          "text": [
            "Running epoch 6/64\n",
            "----------\n"
          ]
        },
        {
          "output_type": "stream",
          "name": "stderr",
          "text": [
            "100%|██████████| 113/113 [00:19<00:00,  5.79it/s]\n",
            "100%|██████████| 13/13 [00:02<00:00,  5.56it/s]\n"
          ]
        },
        {
          "output_type": "stream",
          "name": "stdout",
          "text": [
            "Running epoch 7/64\n",
            "----------\n"
          ]
        },
        {
          "output_type": "stream",
          "name": "stderr",
          "text": [
            "100%|██████████| 113/113 [00:18<00:00,  5.96it/s]\n",
            "100%|██████████| 13/13 [00:02<00:00,  5.66it/s]\n"
          ]
        },
        {
          "output_type": "stream",
          "name": "stdout",
          "text": [
            "Running epoch 8/64\n",
            "----------\n"
          ]
        },
        {
          "output_type": "stream",
          "name": "stderr",
          "text": [
            "100%|██████████| 113/113 [00:19<00:00,  5.87it/s]\n",
            "100%|██████████| 13/13 [00:02<00:00,  5.77it/s]\n"
          ]
        },
        {
          "output_type": "stream",
          "name": "stdout",
          "text": [
            "Running epoch 9/64\n",
            "----------\n"
          ]
        },
        {
          "output_type": "stream",
          "name": "stderr",
          "text": [
            "100%|██████████| 113/113 [00:19<00:00,  5.89it/s]\n",
            "100%|██████████| 13/13 [00:02<00:00,  5.37it/s]\n"
          ]
        },
        {
          "output_type": "stream",
          "name": "stdout",
          "text": [
            "Running epoch 10/64\n",
            "----------\n"
          ]
        },
        {
          "output_type": "stream",
          "name": "stderr",
          "text": [
            "100%|██████████| 113/113 [00:19<00:00,  5.80it/s]\n",
            "100%|██████████| 13/13 [00:02<00:00,  5.74it/s]\n"
          ]
        },
        {
          "output_type": "stream",
          "name": "stdout",
          "text": [
            "Running epoch 11/64\n",
            "----------\n"
          ]
        },
        {
          "output_type": "stream",
          "name": "stderr",
          "text": [
            "100%|██████████| 113/113 [00:19<00:00,  5.79it/s]\n",
            "100%|██████████| 13/13 [00:02<00:00,  5.61it/s]\n"
          ]
        },
        {
          "output_type": "stream",
          "name": "stdout",
          "text": [
            "Running epoch 12/64\n",
            "----------\n"
          ]
        },
        {
          "output_type": "stream",
          "name": "stderr",
          "text": [
            "100%|██████████| 113/113 [00:19<00:00,  5.88it/s]\n",
            "100%|██████████| 13/13 [00:02<00:00,  5.59it/s]\n"
          ]
        },
        {
          "output_type": "stream",
          "name": "stdout",
          "text": [
            "Running epoch 13/64\n",
            "----------\n"
          ]
        },
        {
          "output_type": "stream",
          "name": "stderr",
          "text": [
            "100%|██████████| 113/113 [00:19<00:00,  5.92it/s]\n",
            "100%|██████████| 13/13 [00:02<00:00,  5.68it/s]\n"
          ]
        },
        {
          "output_type": "stream",
          "name": "stdout",
          "text": [
            "Running epoch 14/64\n",
            "----------\n"
          ]
        },
        {
          "output_type": "stream",
          "name": "stderr",
          "text": [
            "100%|██████████| 113/113 [00:19<00:00,  5.91it/s]\n",
            "100%|██████████| 13/13 [00:02<00:00,  5.60it/s]\n"
          ]
        },
        {
          "output_type": "stream",
          "name": "stdout",
          "text": [
            "Running epoch 15/64\n",
            "----------\n"
          ]
        },
        {
          "output_type": "stream",
          "name": "stderr",
          "text": [
            "100%|██████████| 113/113 [00:19<00:00,  5.93it/s]\n",
            "100%|██████████| 13/13 [00:02<00:00,  5.66it/s]\n"
          ]
        },
        {
          "output_type": "stream",
          "name": "stdout",
          "text": [
            "Running epoch 16/64\n",
            "----------\n"
          ]
        },
        {
          "output_type": "stream",
          "name": "stderr",
          "text": [
            "100%|██████████| 113/113 [00:19<00:00,  5.93it/s]\n",
            "100%|██████████| 13/13 [00:02<00:00,  5.64it/s]\n"
          ]
        },
        {
          "output_type": "stream",
          "name": "stdout",
          "text": [
            "Running epoch 17/64\n",
            "----------\n"
          ]
        },
        {
          "output_type": "stream",
          "name": "stderr",
          "text": [
            "100%|██████████| 113/113 [00:19<00:00,  5.93it/s]\n",
            "100%|██████████| 13/13 [00:02<00:00,  5.67it/s]\n"
          ]
        },
        {
          "output_type": "stream",
          "name": "stdout",
          "text": [
            "Running epoch 18/64\n",
            "----------\n"
          ]
        },
        {
          "output_type": "stream",
          "name": "stderr",
          "text": [
            "100%|██████████| 113/113 [00:19<00:00,  5.92it/s]\n",
            "100%|██████████| 13/13 [00:02<00:00,  5.38it/s]\n"
          ]
        },
        {
          "output_type": "stream",
          "name": "stdout",
          "text": [
            "Running epoch 19/64\n",
            "----------\n"
          ]
        },
        {
          "output_type": "stream",
          "name": "stderr",
          "text": [
            "100%|██████████| 113/113 [00:18<00:00,  6.01it/s]\n",
            "100%|██████████| 13/13 [00:02<00:00,  5.69it/s]\n"
          ]
        },
        {
          "output_type": "stream",
          "name": "stdout",
          "text": [
            "Running epoch 20/64\n",
            "----------\n"
          ]
        },
        {
          "output_type": "stream",
          "name": "stderr",
          "text": [
            "100%|██████████| 113/113 [00:19<00:00,  5.69it/s]\n",
            "100%|██████████| 13/13 [00:02<00:00,  5.60it/s]\n"
          ]
        },
        {
          "output_type": "stream",
          "name": "stdout",
          "text": [
            "Running epoch 21/64\n",
            "----------\n"
          ]
        },
        {
          "output_type": "stream",
          "name": "stderr",
          "text": [
            "100%|██████████| 113/113 [00:19<00:00,  5.90it/s]\n",
            "100%|██████████| 13/13 [00:02<00:00,  5.51it/s]\n"
          ]
        },
        {
          "output_type": "stream",
          "name": "stdout",
          "text": [
            "Running epoch 22/64\n",
            "----------\n"
          ]
        },
        {
          "output_type": "stream",
          "name": "stderr",
          "text": [
            "100%|██████████| 113/113 [00:19<00:00,  5.89it/s]\n",
            "100%|██████████| 13/13 [00:02<00:00,  5.52it/s]\n"
          ]
        },
        {
          "output_type": "stream",
          "name": "stdout",
          "text": [
            "Running epoch 23/64\n",
            "----------\n"
          ]
        },
        {
          "output_type": "stream",
          "name": "stderr",
          "text": [
            "100%|██████████| 113/113 [00:19<00:00,  5.77it/s]\n",
            "100%|██████████| 13/13 [00:02<00:00,  5.52it/s]\n"
          ]
        },
        {
          "output_type": "stream",
          "name": "stdout",
          "text": [
            "Running epoch 24/64\n",
            "----------\n"
          ]
        },
        {
          "output_type": "stream",
          "name": "stderr",
          "text": [
            "100%|██████████| 113/113 [00:19<00:00,  5.91it/s]\n",
            "100%|██████████| 13/13 [00:02<00:00,  5.68it/s]\n"
          ]
        },
        {
          "output_type": "stream",
          "name": "stdout",
          "text": [
            "Running epoch 25/64\n",
            "----------\n"
          ]
        },
        {
          "output_type": "stream",
          "name": "stderr",
          "text": [
            "100%|██████████| 113/113 [00:19<00:00,  5.88it/s]\n",
            "100%|██████████| 13/13 [00:02<00:00,  5.58it/s]\n"
          ]
        },
        {
          "output_type": "stream",
          "name": "stdout",
          "text": [
            "Running epoch 26/64\n",
            "----------\n"
          ]
        },
        {
          "output_type": "stream",
          "name": "stderr",
          "text": [
            "100%|██████████| 113/113 [00:19<00:00,  5.84it/s]\n",
            "100%|██████████| 13/13 [00:02<00:00,  5.63it/s]\n"
          ]
        },
        {
          "output_type": "stream",
          "name": "stdout",
          "text": [
            "Running epoch 27/64\n",
            "----------\n"
          ]
        },
        {
          "output_type": "stream",
          "name": "stderr",
          "text": [
            "100%|██████████| 113/113 [00:19<00:00,  5.88it/s]\n",
            "100%|██████████| 13/13 [00:02<00:00,  5.52it/s]\n"
          ]
        },
        {
          "output_type": "stream",
          "name": "stdout",
          "text": [
            "Running epoch 28/64\n",
            "----------\n"
          ]
        },
        {
          "output_type": "stream",
          "name": "stderr",
          "text": [
            "100%|██████████| 113/113 [00:19<00:00,  5.86it/s]\n",
            "100%|██████████| 13/13 [00:02<00:00,  5.52it/s]\n"
          ]
        },
        {
          "output_type": "stream",
          "name": "stdout",
          "text": [
            "Running epoch 29/64\n",
            "----------\n"
          ]
        },
        {
          "output_type": "stream",
          "name": "stderr",
          "text": [
            "100%|██████████| 113/113 [00:19<00:00,  5.82it/s]\n",
            "100%|██████████| 13/13 [00:02<00:00,  5.50it/s]\n"
          ]
        },
        {
          "output_type": "stream",
          "name": "stdout",
          "text": [
            "Running epoch 30/64\n",
            "----------\n"
          ]
        },
        {
          "output_type": "stream",
          "name": "stderr",
          "text": [
            "100%|██████████| 113/113 [00:19<00:00,  5.83it/s]\n",
            "100%|██████████| 13/13 [00:02<00:00,  5.39it/s]\n"
          ]
        },
        {
          "output_type": "stream",
          "name": "stdout",
          "text": [
            "Running epoch 31/64\n",
            "----------\n"
          ]
        },
        {
          "output_type": "stream",
          "name": "stderr",
          "text": [
            "100%|██████████| 113/113 [00:19<00:00,  5.78it/s]\n",
            "100%|██████████| 13/13 [00:02<00:00,  5.38it/s]\n"
          ]
        },
        {
          "output_type": "stream",
          "name": "stdout",
          "text": [
            "Running epoch 32/64\n",
            "----------\n"
          ]
        },
        {
          "output_type": "stream",
          "name": "stderr",
          "text": [
            "100%|██████████| 113/113 [00:19<00:00,  5.74it/s]\n",
            "100%|██████████| 13/13 [00:02<00:00,  4.87it/s]\n"
          ]
        },
        {
          "output_type": "stream",
          "name": "stdout",
          "text": [
            "Running epoch 33/64\n",
            "----------\n"
          ]
        },
        {
          "output_type": "stream",
          "name": "stderr",
          "text": [
            "100%|██████████| 113/113 [00:20<00:00,  5.50it/s]\n",
            "100%|██████████| 13/13 [00:02<00:00,  5.52it/s]\n"
          ]
        },
        {
          "output_type": "stream",
          "name": "stdout",
          "text": [
            "Running epoch 34/64\n",
            "----------\n"
          ]
        },
        {
          "output_type": "stream",
          "name": "stderr",
          "text": [
            "100%|██████████| 113/113 [00:19<00:00,  5.65it/s]\n",
            "100%|██████████| 13/13 [00:03<00:00,  4.32it/s]\n"
          ]
        },
        {
          "output_type": "stream",
          "name": "stdout",
          "text": [
            "Running epoch 35/64\n",
            "----------\n"
          ]
        },
        {
          "output_type": "stream",
          "name": "stderr",
          "text": [
            "100%|██████████| 113/113 [00:19<00:00,  5.75it/s]\n",
            "100%|██████████| 13/13 [00:02<00:00,  5.39it/s]\n"
          ]
        },
        {
          "output_type": "stream",
          "name": "stdout",
          "text": [
            "Running epoch 36/64\n",
            "----------\n"
          ]
        },
        {
          "output_type": "stream",
          "name": "stderr",
          "text": [
            "100%|██████████| 113/113 [00:19<00:00,  5.83it/s]\n",
            "100%|██████████| 13/13 [00:02<00:00,  5.63it/s]\n"
          ]
        },
        {
          "output_type": "stream",
          "name": "stdout",
          "text": [
            "Running epoch 37/64\n",
            "----------\n"
          ]
        },
        {
          "output_type": "stream",
          "name": "stderr",
          "text": [
            "100%|██████████| 113/113 [00:19<00:00,  5.91it/s]\n",
            "100%|██████████| 13/13 [00:02<00:00,  5.64it/s]\n"
          ]
        },
        {
          "output_type": "stream",
          "name": "stdout",
          "text": [
            "Running epoch 38/64\n",
            "----------\n"
          ]
        },
        {
          "output_type": "stream",
          "name": "stderr",
          "text": [
            "100%|██████████| 113/113 [00:19<00:00,  5.85it/s]\n",
            "100%|██████████| 13/13 [00:02<00:00,  5.64it/s]\n"
          ]
        },
        {
          "output_type": "stream",
          "name": "stdout",
          "text": [
            "Running epoch 39/64\n",
            "----------\n"
          ]
        },
        {
          "output_type": "stream",
          "name": "stderr",
          "text": [
            "100%|██████████| 113/113 [00:19<00:00,  5.83it/s]\n",
            "100%|██████████| 13/13 [00:02<00:00,  5.43it/s]\n"
          ]
        },
        {
          "output_type": "stream",
          "name": "stdout",
          "text": [
            "Running epoch 40/64\n",
            "----------\n"
          ]
        },
        {
          "output_type": "stream",
          "name": "stderr",
          "text": [
            "100%|██████████| 113/113 [00:19<00:00,  5.81it/s]\n",
            "100%|██████████| 13/13 [00:02<00:00,  5.47it/s]\n"
          ]
        },
        {
          "output_type": "stream",
          "name": "stdout",
          "text": [
            "Running epoch 41/64\n",
            "----------\n"
          ]
        },
        {
          "output_type": "stream",
          "name": "stderr",
          "text": [
            "100%|██████████| 113/113 [00:19<00:00,  5.81it/s]\n",
            "100%|██████████| 13/13 [00:02<00:00,  5.51it/s]\n"
          ]
        },
        {
          "output_type": "stream",
          "name": "stdout",
          "text": [
            "Running epoch 42/64\n",
            "----------\n"
          ]
        },
        {
          "output_type": "stream",
          "name": "stderr",
          "text": [
            "100%|██████████| 113/113 [00:19<00:00,  5.93it/s]\n",
            "100%|██████████| 13/13 [00:02<00:00,  5.49it/s]\n"
          ]
        },
        {
          "output_type": "stream",
          "name": "stdout",
          "text": [
            "Running epoch 43/64\n",
            "----------\n"
          ]
        },
        {
          "output_type": "stream",
          "name": "stderr",
          "text": [
            "100%|██████████| 113/113 [00:19<00:00,  5.92it/s]\n",
            "100%|██████████| 13/13 [00:02<00:00,  5.50it/s]\n"
          ]
        },
        {
          "output_type": "stream",
          "name": "stdout",
          "text": [
            "Running epoch 44/64\n",
            "----------\n"
          ]
        },
        {
          "output_type": "stream",
          "name": "stderr",
          "text": [
            "100%|██████████| 113/113 [00:19<00:00,  5.85it/s]\n",
            "100%|██████████| 13/13 [00:02<00:00,  5.57it/s]\n"
          ]
        },
        {
          "output_type": "stream",
          "name": "stdout",
          "text": [
            "Running epoch 45/64\n",
            "----------\n"
          ]
        },
        {
          "output_type": "stream",
          "name": "stderr",
          "text": [
            "100%|██████████| 113/113 [00:19<00:00,  5.67it/s]\n",
            "100%|██████████| 13/13 [00:02<00:00,  5.33it/s]\n"
          ]
        },
        {
          "output_type": "stream",
          "name": "stdout",
          "text": [
            "Running epoch 46/64\n",
            "----------\n"
          ]
        },
        {
          "output_type": "stream",
          "name": "stderr",
          "text": [
            "100%|██████████| 113/113 [00:19<00:00,  5.79it/s]\n",
            "100%|██████████| 13/13 [00:02<00:00,  5.59it/s]\n"
          ]
        },
        {
          "output_type": "stream",
          "name": "stdout",
          "text": [
            "Running epoch 47/64\n",
            "----------\n"
          ]
        },
        {
          "output_type": "stream",
          "name": "stderr",
          "text": [
            "100%|██████████| 113/113 [00:19<00:00,  5.81it/s]\n",
            "100%|██████████| 13/13 [00:02<00:00,  5.50it/s]\n"
          ]
        },
        {
          "output_type": "stream",
          "name": "stdout",
          "text": [
            "Running epoch 48/64\n",
            "----------\n"
          ]
        },
        {
          "output_type": "stream",
          "name": "stderr",
          "text": [
            "100%|██████████| 113/113 [00:19<00:00,  5.78it/s]\n",
            "100%|██████████| 13/13 [00:02<00:00,  5.53it/s]\n"
          ]
        },
        {
          "output_type": "stream",
          "name": "stdout",
          "text": [
            "Running epoch 49/64\n",
            "----------\n"
          ]
        },
        {
          "output_type": "stream",
          "name": "stderr",
          "text": [
            "100%|██████████| 113/113 [00:19<00:00,  5.76it/s]\n",
            "100%|██████████| 13/13 [00:02<00:00,  5.63it/s]\n"
          ]
        },
        {
          "output_type": "stream",
          "name": "stdout",
          "text": [
            "Running epoch 50/64\n",
            "----------\n"
          ]
        },
        {
          "output_type": "stream",
          "name": "stderr",
          "text": [
            "100%|██████████| 113/113 [00:19<00:00,  5.75it/s]\n",
            "100%|██████████| 13/13 [00:02<00:00,  5.62it/s]\n"
          ]
        },
        {
          "output_type": "stream",
          "name": "stdout",
          "text": [
            "Running epoch 51/64\n",
            "----------\n"
          ]
        },
        {
          "output_type": "stream",
          "name": "stderr",
          "text": [
            "100%|██████████| 113/113 [00:19<00:00,  5.80it/s]\n",
            "100%|██████████| 13/13 [00:02<00:00,  5.25it/s]\n"
          ]
        },
        {
          "output_type": "stream",
          "name": "stdout",
          "text": [
            "Running epoch 52/64\n",
            "----------\n"
          ]
        },
        {
          "output_type": "stream",
          "name": "stderr",
          "text": [
            "100%|██████████| 113/113 [00:19<00:00,  5.75it/s]\n",
            "100%|██████████| 13/13 [00:02<00:00,  5.54it/s]\n"
          ]
        },
        {
          "output_type": "stream",
          "name": "stdout",
          "text": [
            "Running epoch 53/64\n",
            "----------\n"
          ]
        },
        {
          "output_type": "stream",
          "name": "stderr",
          "text": [
            "100%|██████████| 113/113 [00:19<00:00,  5.82it/s]\n",
            "100%|██████████| 13/13 [00:02<00:00,  5.50it/s]\n"
          ]
        },
        {
          "output_type": "stream",
          "name": "stdout",
          "text": [
            "Running epoch 54/64\n",
            "----------\n"
          ]
        },
        {
          "output_type": "stream",
          "name": "stderr",
          "text": [
            "100%|██████████| 113/113 [00:19<00:00,  5.79it/s]\n",
            "100%|██████████| 13/13 [00:02<00:00,  5.36it/s]\n"
          ]
        },
        {
          "output_type": "stream",
          "name": "stdout",
          "text": [
            "Running epoch 55/64\n",
            "----------\n"
          ]
        },
        {
          "output_type": "stream",
          "name": "stderr",
          "text": [
            "100%|██████████| 113/113 [00:19<00:00,  5.81it/s]\n",
            "100%|██████████| 13/13 [00:02<00:00,  5.62it/s]\n"
          ]
        },
        {
          "output_type": "stream",
          "name": "stdout",
          "text": [
            "Running epoch 56/64\n",
            "----------\n"
          ]
        },
        {
          "output_type": "stream",
          "name": "stderr",
          "text": [
            "100%|██████████| 113/113 [00:19<00:00,  5.83it/s]\n",
            "100%|██████████| 13/13 [00:02<00:00,  5.36it/s]\n"
          ]
        },
        {
          "output_type": "stream",
          "name": "stdout",
          "text": [
            "Running epoch 57/64\n",
            "----------\n"
          ]
        },
        {
          "output_type": "stream",
          "name": "stderr",
          "text": [
            "100%|██████████| 113/113 [00:19<00:00,  5.79it/s]\n",
            "100%|██████████| 13/13 [00:02<00:00,  5.54it/s]\n"
          ]
        },
        {
          "output_type": "stream",
          "name": "stdout",
          "text": [
            "Running epoch 58/64\n",
            "----------\n"
          ]
        },
        {
          "output_type": "stream",
          "name": "stderr",
          "text": [
            "100%|██████████| 113/113 [00:19<00:00,  5.70it/s]\n",
            "100%|██████████| 13/13 [00:02<00:00,  5.29it/s]\n"
          ]
        },
        {
          "output_type": "stream",
          "name": "stdout",
          "text": [
            "Running epoch 59/64\n",
            "----------\n"
          ]
        },
        {
          "output_type": "stream",
          "name": "stderr",
          "text": [
            "100%|██████████| 113/113 [00:19<00:00,  5.72it/s]\n",
            "100%|██████████| 13/13 [00:02<00:00,  5.38it/s]\n"
          ]
        },
        {
          "output_type": "stream",
          "name": "stdout",
          "text": [
            "Running epoch 60/64\n",
            "----------\n"
          ]
        },
        {
          "output_type": "stream",
          "name": "stderr",
          "text": [
            "100%|██████████| 113/113 [00:19<00:00,  5.68it/s]\n",
            "100%|██████████| 13/13 [00:02<00:00,  5.36it/s]\n"
          ]
        },
        {
          "output_type": "stream",
          "name": "stdout",
          "text": [
            "Running epoch 61/64\n",
            "----------\n"
          ]
        },
        {
          "output_type": "stream",
          "name": "stderr",
          "text": [
            "100%|██████████| 113/113 [00:19<00:00,  5.68it/s]\n",
            "100%|██████████| 13/13 [00:02<00:00,  5.55it/s]\n"
          ]
        },
        {
          "output_type": "stream",
          "name": "stdout",
          "text": [
            "Running epoch 62/64\n",
            "----------\n"
          ]
        },
        {
          "output_type": "stream",
          "name": "stderr",
          "text": [
            "100%|██████████| 113/113 [00:19<00:00,  5.84it/s]\n",
            "100%|██████████| 13/13 [00:02<00:00,  5.45it/s]\n"
          ]
        },
        {
          "output_type": "stream",
          "name": "stdout",
          "text": [
            "Running epoch 63/64\n",
            "----------\n"
          ]
        },
        {
          "output_type": "stream",
          "name": "stderr",
          "text": [
            "100%|██████████| 113/113 [00:19<00:00,  5.74it/s]\n",
            "100%|██████████| 13/13 [00:02<00:00,  5.40it/s]\n"
          ]
        },
        {
          "output_type": "stream",
          "name": "stdout",
          "text": [
            "Running epoch 64/64\n",
            "----------\n"
          ]
        },
        {
          "output_type": "stream",
          "name": "stderr",
          "text": [
            "100%|██████████| 113/113 [00:19<00:00,  5.81it/s]\n",
            "100%|██████████| 13/13 [00:02<00:00,  5.38it/s]\n"
          ]
        },
        {
          "output_type": "stream",
          "name": "stdout",
          "text": [
            "Training complete in 25m 31s\n",
            "Best Val Accuracy: 1.000000\n"
          ]
        }
      ]
    },
    {
      "cell_type": "markdown",
      "source": [
        "*Final evaluation on the test dataset*"
      ],
      "metadata": {
        "id": "uyHhaB8aaLUN"
      }
    },
    {
      "cell_type": "code",
      "source": [
        "def evaluate(model):\n",
        "  loss_on_test_dataset= 0.0\n",
        "  correct_class=list(0. for i in range(len(class_categories)))\n",
        "  total_correct_for_all_classes=list(0. for i in range(len(class_categories)))\n",
        "\n",
        "  model.eval()\n",
        "  for test_inputs, test_labels in tqdm(test_dataloader):\n",
        "    ''' \n",
        "    In local machine, below 2 lines will not work if local GPU itself or\n",
        "    the GPU's compute capability is not capable with PyTorch.\n",
        "    '''\n",
        "    if torch.cuda.is_available():\n",
        "      test_inputs, test_labels= test_inputs.cuda(), test_labels.cuda()\n",
        "    with torch.no_grad():\n",
        "      output_test=model(test_inputs)\n",
        "      loss=criterion(output_test, test_labels)\n",
        "    \n",
        "    loss_on_test_dataset += loss.item()*test_inputs.size(0)\n",
        "    _, pred_test=torch.max(output_test, 1)\n",
        "\n",
        "    '''\n",
        "    Now compare predictions to true label\n",
        "    view_as: View this tensor as the same size as other.\n",
        "    self.view_as(other): It is equivalent to self.view(other.size())\n",
        "    tensor.view_as(other): It is equivalent to tensor.view(other.size())\n",
        "    '''\n",
        "    correct_tensor= pred_test.eq(test_labels.view_as(pred_test))\n",
        "    # Below line of code will make sure if GPU is not available then we copy the tensor to CPU and convert it to numpy array\n",
        "    correct=np.squeeze(correct_tensor.numpy()) if not torch.cuda.is_available() else np.squeeze(correct_tensor.cpu().numpy())\n",
        "    if len(test_labels)==BATCH_SIZE:\n",
        "      for i in range(BATCH_SIZE):\n",
        "        label=test_labels.data[i]\n",
        "        # Updating corrects for each class objects\n",
        "        correct_class[label] += correct[i].item()\n",
        "        # Updating corrects for total classes\n",
        "        total_correct_for_all_classes[label] +=1\n",
        "    loss_on_test_dataset=loss_on_test_dataset/len(test_dataloader.dataset)\n",
        "    print('Test Loss: {:.6f}\\n'.format(loss_on_test_dataset))\n",
        "    for i in range(len(class_categories)):\n",
        "      if total_correct_for_all_classes[i]>0:\n",
        "        # Now print total accuracy % and also number of corrects vs total number\n",
        "        print('Test Accuracy of %5s: %2d%% (%2d/%2d)' % (class_categories[i], 100*correct_class[i]/total_correct_for_all_classes[i], np.sum(correct_class[i]), np.sum(total_correct_for_all_classes[i])))\n",
        "      else:\n",
        "        print('Test Acuuracy of %5s: N?A (no training examples)' %(class_categories[i]))\n",
        "    print('\\n Test Accuracy (overall): {:.4f} ({}/{})'.format(100*np.sum(correct_class)/np.sum(total_correct_for_all_classes), np.sum(correct_class), np.sum(total_correct_for_all_classes)))\n",
        "                                                                                              "
      ],
      "metadata": {
        "id": "p6pSBFdHYuX7"
      },
      "execution_count": 31,
      "outputs": []
    },
    {
      "cell_type": "code",
      "source": [
        "evaluate(model_trained)"
      ],
      "metadata": {
        "id": "Y5Nc6I3Eu-Gy",
        "colab": {
          "base_uri": "https://localhost:8080/"
        },
        "outputId": "df4e7be9-c99a-4bb4-9fad-42883a6eda00"
      },
      "execution_count": 32,
      "outputs": [
        {
          "output_type": "stream",
          "name": "stderr",
          "text": [
            "  2%|▏         | 1/51 [00:21<17:44, 21.28s/it]"
          ]
        },
        {
          "output_type": "stream",
          "name": "stdout",
          "text": [
            "Test Loss: 0.008201\n",
            "\n",
            "Test Accuracy of cloudy: 100% ( 6/ 6)\n",
            "Test Accuracy of desert: 100% ( 2/ 2)\n",
            "Test Accuracy of green_area: 100% (10/10)\n",
            "Test Accuracy of water: 100% (14/14)\n",
            "\n",
            " Test Accuracy (overall): 100.0000 (32.0/32.0)\n"
          ]
        },
        {
          "output_type": "stream",
          "name": "stderr",
          "text": [
            "\r  4%|▍         | 2/51 [00:23<08:00,  9.81s/it]"
          ]
        },
        {
          "output_type": "stream",
          "name": "stdout",
          "text": [
            "Test Loss: 0.007983\n",
            "\n",
            "Test Accuracy of cloudy: 100% (17/17)\n",
            "Test Accuracy of desert: 100% ( 7/ 7)\n",
            "Test Accuracy of green_area: 100% (18/18)\n",
            "Test Accuracy of water: 100% (22/22)\n",
            "\n",
            " Test Accuracy (overall): 100.0000 (64.0/64.0)\n"
          ]
        },
        {
          "output_type": "stream",
          "name": "stderr",
          "text": [
            "\r  6%|▌         | 3/51 [00:42<11:24, 14.27s/it]"
          ]
        },
        {
          "output_type": "stream",
          "name": "stdout",
          "text": [
            "Test Loss: 0.007717\n",
            "\n",
            "Test Accuracy of cloudy: 100% (27/27)\n",
            "Test Accuracy of desert: 100% (10/10)\n",
            "Test Accuracy of green_area: 100% (28/28)\n",
            "Test Accuracy of water: 100% (31/31)\n",
            "\n",
            " Test Accuracy (overall): 100.0000 (96.0/96.0)\n"
          ]
        },
        {
          "output_type": "stream",
          "name": "stderr",
          "text": [
            "\r  8%|▊         | 4/51 [00:44<07:29,  9.56s/it]"
          ]
        },
        {
          "output_type": "stream",
          "name": "stdout",
          "text": [
            "Test Loss: 0.007747\n",
            "\n",
            "Test Accuracy of cloudy: 100% (40/40)\n",
            "Test Accuracy of desert: 100% (12/12)\n",
            "Test Accuracy of green_area: 100% (39/39)\n",
            "Test Accuracy of water: 100% (37/37)\n",
            "\n",
            " Test Accuracy (overall): 100.0000 (128.0/128.0)\n"
          ]
        },
        {
          "output_type": "stream",
          "name": "stderr",
          "text": [
            "\r 10%|▉         | 5/51 [01:03<09:55, 12.95s/it]"
          ]
        },
        {
          "output_type": "stream",
          "name": "stdout",
          "text": [
            "Test Loss: 0.008033\n",
            "\n",
            "Test Accuracy of cloudy: 100% (54/54)\n",
            "Test Accuracy of desert: 100% (12/12)\n",
            "Test Accuracy of green_area: 100% (47/47)\n",
            "Test Accuracy of water: 100% (47/47)\n",
            "\n",
            " Test Accuracy (overall): 100.0000 (160.0/160.0)\n"
          ]
        },
        {
          "output_type": "stream",
          "name": "stderr",
          "text": [
            "\r 12%|█▏        | 6/51 [01:07<07:14,  9.67s/it]"
          ]
        },
        {
          "output_type": "stream",
          "name": "stdout",
          "text": [
            "Test Loss: 0.008329\n",
            "\n",
            "Test Accuracy of cloudy: 100% (62/62)\n",
            "Test Accuracy of desert: 100% (16/16)\n",
            "Test Accuracy of green_area: 100% (57/57)\n",
            "Test Accuracy of water: 100% (57/57)\n",
            "\n",
            " Test Accuracy (overall): 100.0000 (192.0/192.0)\n"
          ]
        },
        {
          "output_type": "stream",
          "name": "stderr",
          "text": [
            "\r 14%|█▎        | 7/51 [01:25<09:03, 12.36s/it]"
          ]
        },
        {
          "output_type": "stream",
          "name": "stdout",
          "text": [
            "Test Loss: 0.007850\n",
            "\n",
            "Test Accuracy of cloudy: 100% (75/75)\n",
            "Test Accuracy of desert: 100% (16/16)\n",
            "Test Accuracy of green_area: 100% (70/70)\n",
            "Test Accuracy of water: 100% (63/63)\n",
            "\n",
            " Test Accuracy (overall): 100.0000 (224.0/224.0)\n"
          ]
        },
        {
          "output_type": "stream",
          "name": "stderr",
          "text": [
            "\r 16%|█▌        | 8/51 [01:29<07:01,  9.80s/it]"
          ]
        },
        {
          "output_type": "stream",
          "name": "stdout",
          "text": [
            "Test Loss: 0.007906\n",
            "\n",
            "Test Accuracy of cloudy: 100% (87/87)\n",
            "Test Accuracy of desert: 100% (18/18)\n",
            "Test Accuracy of green_area: 100% (78/78)\n",
            "Test Accuracy of water: 100% (73/73)\n",
            "\n",
            " Test Accuracy (overall): 100.0000 (256.0/256.0)\n"
          ]
        },
        {
          "output_type": "stream",
          "name": "stderr",
          "text": [
            "\r 18%|█▊        | 9/51 [01:46<08:23, 11.99s/it]"
          ]
        },
        {
          "output_type": "stream",
          "name": "stdout",
          "text": [
            "Test Loss: 0.008845\n",
            "\n",
            "Test Accuracy of cloudy: 100% (93/93)\n",
            "Test Accuracy of desert: 100% (19/19)\n",
            "Test Accuracy of green_area: 100% (89/89)\n",
            "Test Accuracy of water: 98% (86/87)\n",
            "\n",
            " Test Accuracy (overall): 99.6528 (287.0/288.0)\n"
          ]
        },
        {
          "output_type": "stream",
          "name": "stderr",
          "text": [
            "\r 20%|█▉        | 10/51 [01:51<06:40,  9.77s/it]"
          ]
        },
        {
          "output_type": "stream",
          "name": "stdout",
          "text": [
            "Test Loss: 0.008008\n",
            "\n",
            "Test Accuracy of cloudy: 100% (103/103)\n",
            "Test Accuracy of desert: 100% (24/24)\n",
            "Test Accuracy of green_area: 100% (99/99)\n",
            "Test Accuracy of water: 98% (93/94)\n",
            "\n",
            " Test Accuracy (overall): 99.6875 (319.0/320.0)\n"
          ]
        },
        {
          "output_type": "stream",
          "name": "stderr",
          "text": [
            "\r 22%|██▏       | 11/51 [02:07<07:58, 11.96s/it]"
          ]
        },
        {
          "output_type": "stream",
          "name": "stdout",
          "text": [
            "Test Loss: 0.008496\n",
            "\n",
            "Test Accuracy of cloudy: 100% (110/110)\n",
            "Test Accuracy of desert: 100% (27/27)\n",
            "Test Accuracy of green_area: 100% (110/110)\n",
            "Test Accuracy of water: 99% (104/105)\n",
            "\n",
            " Test Accuracy (overall): 99.7159 (351.0/352.0)\n"
          ]
        },
        {
          "output_type": "stream",
          "name": "stderr",
          "text": [
            "\r 24%|██▎       | 12/51 [02:11<06:10,  9.49s/it]"
          ]
        },
        {
          "output_type": "stream",
          "name": "stdout",
          "text": [
            "Test Loss: 0.008030\n",
            "\n",
            "Test Accuracy of cloudy: 100% (119/119)\n",
            "Test Accuracy of desert: 100% (28/28)\n",
            "Test Accuracy of green_area: 100% (122/122)\n",
            "Test Accuracy of water: 99% (114/115)\n",
            "\n",
            " Test Accuracy (overall): 99.7396 (383.0/384.0)\n"
          ]
        },
        {
          "output_type": "stream",
          "name": "stderr",
          "text": [
            "\r 25%|██▌       | 13/51 [02:30<07:51, 12.40s/it]"
          ]
        },
        {
          "output_type": "stream",
          "name": "stdout",
          "text": [
            "Test Loss: 0.007752\n",
            "\n",
            "Test Accuracy of cloudy: 100% (132/132)\n",
            "Test Accuracy of desert: 100% (29/29)\n",
            "Test Accuracy of green_area: 100% (132/132)\n",
            "Test Accuracy of water: 99% (122/123)\n",
            "\n",
            " Test Accuracy (overall): 99.7596 (415.0/416.0)\n"
          ]
        },
        {
          "output_type": "stream",
          "name": "stderr",
          "text": [
            "\r 27%|██▋       | 14/51 [02:33<05:46,  9.37s/it]"
          ]
        },
        {
          "output_type": "stream",
          "name": "stdout",
          "text": [
            "Test Loss: 0.007845\n",
            "\n",
            "Test Accuracy of cloudy: 100% (139/139)\n",
            "Test Accuracy of desert: 100% (35/35)\n",
            "Test Accuracy of green_area: 100% (141/141)\n",
            "Test Accuracy of water: 99% (132/133)\n",
            "\n",
            " Test Accuracy (overall): 99.7768 (447.0/448.0)\n"
          ]
        },
        {
          "output_type": "stream",
          "name": "stderr",
          "text": [
            "\r 29%|██▉       | 15/51 [02:52<07:21, 12.26s/it]"
          ]
        },
        {
          "output_type": "stream",
          "name": "stdout",
          "text": [
            "Test Loss: 0.008136\n",
            "\n",
            "Test Accuracy of cloudy: 100% (152/152)\n",
            "Test Accuracy of desert: 100% (37/37)\n",
            "Test Accuracy of green_area: 100% (150/150)\n",
            "Test Accuracy of water: 99% (140/141)\n",
            "\n",
            " Test Accuracy (overall): 99.7917 (479.0/480.0)\n"
          ]
        },
        {
          "output_type": "stream",
          "name": "stderr",
          "text": [
            "\r 31%|███▏      | 16/51 [02:56<05:39,  9.71s/it]"
          ]
        },
        {
          "output_type": "stream",
          "name": "stdout",
          "text": [
            "Test Loss: 0.008238\n",
            "\n",
            "Test Accuracy of cloudy: 99% (166/167)\n",
            "Test Accuracy of desert: 100% (38/38)\n",
            "Test Accuracy of green_area: 100% (153/153)\n",
            "Test Accuracy of water: 99% (153/154)\n",
            "\n",
            " Test Accuracy (overall): 99.6094 (510.0/512.0)\n"
          ]
        },
        {
          "output_type": "stream",
          "name": "stderr",
          "text": [
            "\r 33%|███▎      | 17/51 [03:13<06:51, 12.10s/it]"
          ]
        },
        {
          "output_type": "stream",
          "name": "stdout",
          "text": [
            "Test Loss: 0.007691\n",
            "\n",
            "Test Accuracy of cloudy: 99% (179/180)\n",
            "Test Accuracy of desert: 100% (38/38)\n",
            "Test Accuracy of green_area: 100% (162/162)\n",
            "Test Accuracy of water: 99% (163/164)\n",
            "\n",
            " Test Accuracy (overall): 99.6324 (542.0/544.0)\n"
          ]
        },
        {
          "output_type": "stream",
          "name": "stderr",
          "text": [
            "\r 35%|███▌      | 18/51 [03:17<05:18,  9.64s/it]"
          ]
        },
        {
          "output_type": "stream",
          "name": "stdout",
          "text": [
            "Test Loss: 0.007938\n",
            "\n",
            "Test Accuracy of cloudy: 99% (190/191)\n",
            "Test Accuracy of desert: 100% (38/38)\n",
            "Test Accuracy of green_area: 100% (171/171)\n",
            "Test Accuracy of water: 99% (175/176)\n",
            "\n",
            " Test Accuracy (overall): 99.6528 (574.0/576.0)\n"
          ]
        },
        {
          "output_type": "stream",
          "name": "stderr",
          "text": [
            "\r 37%|███▋      | 19/51 [03:35<06:31, 12.22s/it]"
          ]
        },
        {
          "output_type": "stream",
          "name": "stdout",
          "text": [
            "Test Loss: 0.008711\n",
            "\n",
            "Test Accuracy of cloudy: 99% (203/204)\n",
            "Test Accuracy of desert: 100% (39/39)\n",
            "Test Accuracy of green_area: 100% (181/181)\n",
            "Test Accuracy of water: 98% (182/184)\n",
            "\n",
            " Test Accuracy (overall): 99.5066 (605.0/608.0)\n"
          ]
        },
        {
          "output_type": "stream",
          "name": "stderr",
          "text": [
            "\r 39%|███▉      | 20/51 [03:38<04:52,  9.44s/it]"
          ]
        },
        {
          "output_type": "stream",
          "name": "stdout",
          "text": [
            "Test Loss: 0.007857\n",
            "\n",
            "Test Accuracy of cloudy: 99% (213/214)\n",
            "Test Accuracy of desert: 100% (41/41)\n",
            "Test Accuracy of green_area: 100% (189/189)\n",
            "Test Accuracy of water: 98% (194/196)\n",
            "\n",
            " Test Accuracy (overall): 99.5312 (637.0/640.0)\n"
          ]
        },
        {
          "output_type": "stream",
          "name": "stderr",
          "text": [
            "\r 41%|████      | 21/51 [03:56<05:57, 11.93s/it]"
          ]
        },
        {
          "output_type": "stream",
          "name": "stdout",
          "text": [
            "Test Loss: 0.008387\n",
            "\n",
            "Test Accuracy of cloudy: 99% (221/222)\n",
            "Test Accuracy of desert: 100% (42/42)\n",
            "Test Accuracy of green_area: 99% (197/198)\n",
            "Test Accuracy of water: 99% (208/210)\n",
            "\n",
            " Test Accuracy (overall): 99.4048 (668.0/672.0)\n"
          ]
        },
        {
          "output_type": "stream",
          "name": "stderr",
          "text": [
            "\r 43%|████▎     | 22/51 [03:59<04:29,  9.28s/it]"
          ]
        },
        {
          "output_type": "stream",
          "name": "stdout",
          "text": [
            "Test Loss: 0.008348\n",
            "\n",
            "Test Accuracy of cloudy: 99% (230/231)\n",
            "Test Accuracy of desert: 100% (46/46)\n",
            "Test Accuracy of green_area: 99% (207/208)\n",
            "Test Accuracy of water: 99% (217/219)\n",
            "\n",
            " Test Accuracy (overall): 99.4318 (700.0/704.0)\n"
          ]
        },
        {
          "output_type": "stream",
          "name": "stderr",
          "text": [
            "\r 45%|████▌     | 23/51 [04:18<05:41, 12.21s/it]"
          ]
        },
        {
          "output_type": "stream",
          "name": "stdout",
          "text": [
            "Test Loss: 0.007809\n",
            "\n",
            "Test Accuracy of cloudy: 99% (241/242)\n",
            "Test Accuracy of desert: 100% (49/49)\n",
            "Test Accuracy of green_area: 99% (211/212)\n",
            "Test Accuracy of water: 99% (231/233)\n",
            "\n",
            " Test Accuracy (overall): 99.4565 (732.0/736.0)\n"
          ]
        },
        {
          "output_type": "stream",
          "name": "stderr",
          "text": [
            "\r 47%|████▋     | 24/51 [04:20<04:08,  9.21s/it]"
          ]
        },
        {
          "output_type": "stream",
          "name": "stdout",
          "text": [
            "Test Loss: 0.007794\n",
            "\n",
            "Test Accuracy of cloudy: 99% (252/253)\n",
            "Test Accuracy of desert: 100% (53/53)\n",
            "Test Accuracy of green_area: 99% (221/222)\n",
            "Test Accuracy of water: 99% (238/240)\n",
            "\n",
            " Test Accuracy (overall): 99.4792 (764.0/768.0)\n"
          ]
        },
        {
          "output_type": "stream",
          "name": "stderr",
          "text": [
            "\r 49%|████▉     | 25/51 [04:40<05:19, 12.31s/it]"
          ]
        },
        {
          "output_type": "stream",
          "name": "stdout",
          "text": [
            "Test Loss: 0.008240\n",
            "\n",
            "Test Accuracy of cloudy: 99% (261/262)\n",
            "Test Accuracy of desert: 100% (53/53)\n",
            "Test Accuracy of green_area: 99% (232/234)\n",
            "Test Accuracy of water: 99% (249/251)\n",
            "\n",
            " Test Accuracy (overall): 99.3750 (795.0/800.0)\n"
          ]
        },
        {
          "output_type": "stream",
          "name": "stderr",
          "text": [
            "\r 51%|█████     | 26/51 [04:42<03:47,  9.12s/it]"
          ]
        },
        {
          "output_type": "stream",
          "name": "stdout",
          "text": [
            "Test Loss: 0.007943\n",
            "\n",
            "Test Accuracy of cloudy: 99% (270/271)\n",
            "Test Accuracy of desert: 100% (55/55)\n",
            "Test Accuracy of green_area: 99% (244/246)\n",
            "Test Accuracy of water: 99% (258/260)\n",
            "\n",
            " Test Accuracy (overall): 99.3990 (827.0/832.0)\n"
          ]
        },
        {
          "output_type": "stream",
          "name": "stderr",
          "text": [
            "\r 53%|█████▎    | 27/51 [05:01<04:52, 12.17s/it]"
          ]
        },
        {
          "output_type": "stream",
          "name": "stdout",
          "text": [
            "Test Loss: 0.007949\n",
            "\n",
            "Test Accuracy of cloudy: 99% (281/282)\n",
            "Test Accuracy of desert: 100% (59/59)\n",
            "Test Accuracy of green_area: 99% (250/252)\n",
            "Test Accuracy of water: 99% (269/271)\n",
            "\n",
            " Test Accuracy (overall): 99.4213 (859.0/864.0)\n"
          ]
        },
        {
          "output_type": "stream",
          "name": "stderr",
          "text": [
            "\r 55%|█████▍    | 28/51 [05:03<03:33,  9.29s/it]"
          ]
        },
        {
          "output_type": "stream",
          "name": "stdout",
          "text": [
            "Test Loss: 0.007997\n",
            "\n",
            "Test Accuracy of cloudy: 99% (290/291)\n",
            "Test Accuracy of desert: 100% (60/60)\n",
            "Test Accuracy of green_area: 99% (259/261)\n",
            "Test Accuracy of water: 99% (282/284)\n",
            "\n",
            " Test Accuracy (overall): 99.4420 (891.0/896.0)\n"
          ]
        },
        {
          "output_type": "stream",
          "name": "stderr",
          "text": [
            "\r 57%|█████▋    | 29/51 [05:23<04:31, 12.32s/it]"
          ]
        },
        {
          "output_type": "stream",
          "name": "stdout",
          "text": [
            "Test Loss: 0.008172\n",
            "\n",
            "Test Accuracy of cloudy: 99% (302/303)\n",
            "Test Accuracy of desert: 100% (64/64)\n",
            "Test Accuracy of green_area: 99% (267/269)\n",
            "Test Accuracy of water: 99% (290/292)\n",
            "\n",
            " Test Accuracy (overall): 99.4612 (923.0/928.0)\n"
          ]
        },
        {
          "output_type": "stream",
          "name": "stderr",
          "text": [
            "\r 59%|█████▉    | 30/51 [05:24<03:06,  8.87s/it]"
          ]
        },
        {
          "output_type": "stream",
          "name": "stdout",
          "text": [
            "Test Loss: 0.007801\n",
            "\n",
            "Test Accuracy of cloudy: 99% (315/316)\n",
            "Test Accuracy of desert: 100% (67/67)\n",
            "Test Accuracy of green_area: 99% (275/277)\n",
            "Test Accuracy of water: 99% (298/300)\n",
            "\n",
            " Test Accuracy (overall): 99.4792 (955.0/960.0)\n"
          ]
        },
        {
          "output_type": "stream",
          "name": "stderr",
          "text": [
            " 63%|██████▎   | 32/51 [05:45<02:48,  8.88s/it]"
          ]
        },
        {
          "output_type": "stream",
          "name": "stdout",
          "text": [
            "Test Loss: 0.008041\n",
            "\n",
            "Test Accuracy of cloudy: 99% (322/323)\n",
            "Test Accuracy of desert: 100% (71/71)\n",
            "Test Accuracy of green_area: 99% (280/282)\n",
            "Test Accuracy of water: 99% (314/316)\n",
            "\n",
            " Test Accuracy (overall): 99.4960 (987.0/992.0)\n",
            "Test Loss: 0.007796\n",
            "\n",
            "Test Accuracy of cloudy: 99% (330/331)\n",
            "Test Accuracy of desert: 100% (73/73)\n",
            "Test Accuracy of green_area: 99% (290/292)\n",
            "Test Accuracy of water: 99% (326/328)\n",
            "\n",
            " Test Accuracy (overall): 99.5117 (1019.0/1024.0)\n"
          ]
        },
        {
          "output_type": "stream",
          "name": "stderr",
          "text": [
            "\r 65%|██████▍   | 33/51 [06:06<03:44, 12.50s/it]"
          ]
        },
        {
          "output_type": "stream",
          "name": "stdout",
          "text": [
            "Test Loss: 0.008491\n",
            "\n",
            "Test Accuracy of cloudy: 99% (334/336)\n",
            "Test Accuracy of desert: 100% (78/78)\n",
            "Test Accuracy of green_area: 99% (303/305)\n",
            "Test Accuracy of water: 99% (335/337)\n",
            "\n",
            " Test Accuracy (overall): 99.4318 (1050.0/1056.0)\n"
          ]
        },
        {
          "output_type": "stream",
          "name": "stderr",
          "text": [
            "\r 67%|██████▋   | 34/51 [06:08<02:37,  9.27s/it]"
          ]
        },
        {
          "output_type": "stream",
          "name": "stdout",
          "text": [
            "Test Loss: 0.008890\n",
            "\n",
            "Test Accuracy of cloudy: 99% (346/348)\n",
            "Test Accuracy of desert: 100% (81/81)\n",
            "Test Accuracy of green_area: 99% (308/311)\n",
            "Test Accuracy of water: 99% (346/348)\n",
            "\n",
            " Test Accuracy (overall): 99.3566 (1081.0/1088.0)\n"
          ]
        },
        {
          "output_type": "stream",
          "name": "stderr",
          "text": [
            "\r 69%|██████▊   | 35/51 [06:27<03:15, 12.24s/it]"
          ]
        },
        {
          "output_type": "stream",
          "name": "stdout",
          "text": [
            "Test Loss: 0.007804\n",
            "\n",
            "Test Accuracy of cloudy: 99% (352/354)\n",
            "Test Accuracy of desert: 100% (85/85)\n",
            "Test Accuracy of green_area: 99% (319/322)\n",
            "Test Accuracy of water: 99% (357/359)\n",
            "\n",
            " Test Accuracy (overall): 99.3750 (1113.0/1120.0)\n"
          ]
        },
        {
          "output_type": "stream",
          "name": "stderr",
          "text": [
            "\r 71%|███████   | 36/51 [06:30<02:21,  9.46s/it]"
          ]
        },
        {
          "output_type": "stream",
          "name": "stdout",
          "text": [
            "Test Loss: 0.011836\n",
            "\n",
            "Test Accuracy of cloudy: 99% (362/365)\n",
            "Test Accuracy of desert: 100% (87/87)\n",
            "Test Accuracy of green_area: 99% (328/331)\n",
            "Test Accuracy of water: 99% (367/369)\n",
            "\n",
            " Test Accuracy (overall): 99.3056 (1144.0/1152.0)\n"
          ]
        },
        {
          "output_type": "stream",
          "name": "stderr",
          "text": [
            "\r 73%|███████▎  | 37/51 [06:48<02:47, 11.94s/it]"
          ]
        },
        {
          "output_type": "stream",
          "name": "stdout",
          "text": [
            "Test Loss: 0.007836\n",
            "\n",
            "Test Accuracy of cloudy: 99% (371/374)\n",
            "Test Accuracy of desert: 100% (88/88)\n",
            "Test Accuracy of green_area: 99% (342/345)\n",
            "Test Accuracy of water: 99% (375/377)\n",
            "\n",
            " Test Accuracy (overall): 99.3243 (1176.0/1184.0)\n"
          ]
        },
        {
          "output_type": "stream",
          "name": "stderr",
          "text": [
            "\r 75%|███████▍  | 38/51 [06:52<02:05,  9.69s/it]"
          ]
        },
        {
          "output_type": "stream",
          "name": "stdout",
          "text": [
            "Test Loss: 0.007754\n",
            "\n",
            "Test Accuracy of cloudy: 99% (383/386)\n",
            "Test Accuracy of desert: 100% (90/90)\n",
            "Test Accuracy of green_area: 99% (348/351)\n",
            "Test Accuracy of water: 99% (387/389)\n",
            "\n",
            " Test Accuracy (overall): 99.3421 (1208.0/1216.0)\n"
          ]
        },
        {
          "output_type": "stream",
          "name": "stderr",
          "text": [
            "\r 76%|███████▋  | 39/51 [07:09<02:21, 11.81s/it]"
          ]
        },
        {
          "output_type": "stream",
          "name": "stdout",
          "text": [
            "Test Loss: 0.007870\n",
            "\n",
            "Test Accuracy of cloudy: 99% (391/394)\n",
            "Test Accuracy of desert: 100% (92/92)\n",
            "Test Accuracy of green_area: 99% (361/364)\n",
            "Test Accuracy of water: 99% (396/398)\n",
            "\n",
            " Test Accuracy (overall): 99.3590 (1240.0/1248.0)\n"
          ]
        },
        {
          "output_type": "stream",
          "name": "stderr",
          "text": [
            "\r 78%|███████▊  | 40/51 [07:13<01:45,  9.57s/it]"
          ]
        },
        {
          "output_type": "stream",
          "name": "stdout",
          "text": [
            "Test Loss: 0.007956\n",
            "\n",
            "Test Accuracy of cloudy: 99% (399/402)\n",
            "Test Accuracy of desert: 100% (96/96)\n",
            "Test Accuracy of green_area: 99% (378/381)\n",
            "Test Accuracy of water: 99% (399/401)\n",
            "\n",
            " Test Accuracy (overall): 99.3750 (1272.0/1280.0)\n"
          ]
        },
        {
          "output_type": "stream",
          "name": "stderr",
          "text": [
            "\r 80%|████████  | 41/51 [07:30<01:56, 11.67s/it]"
          ]
        },
        {
          "output_type": "stream",
          "name": "stdout",
          "text": [
            "Test Loss: 0.007767\n",
            "\n",
            "Test Accuracy of cloudy: 99% (407/410)\n",
            "Test Accuracy of desert: 100% (97/97)\n",
            "Test Accuracy of green_area: 99% (391/394)\n",
            "Test Accuracy of water: 99% (409/411)\n",
            "\n",
            " Test Accuracy (overall): 99.3902 (1304.0/1312.0)\n"
          ]
        },
        {
          "output_type": "stream",
          "name": "stderr",
          "text": [
            "\r 82%|████████▏ | 42/51 [07:34<01:24,  9.38s/it]"
          ]
        },
        {
          "output_type": "stream",
          "name": "stdout",
          "text": [
            "Test Loss: 0.008245\n",
            "\n",
            "Test Accuracy of cloudy: 99% (418/421)\n",
            "Test Accuracy of desert: 100% (98/98)\n",
            "Test Accuracy of green_area: 99% (405/408)\n",
            "Test Accuracy of water: 99% (415/417)\n",
            "\n",
            " Test Accuracy (overall): 99.4048 (1336.0/1344.0)\n"
          ]
        },
        {
          "output_type": "stream",
          "name": "stderr",
          "text": [
            "\r 84%|████████▍ | 43/51 [07:52<01:35, 11.88s/it]"
          ]
        },
        {
          "output_type": "stream",
          "name": "stdout",
          "text": [
            "Test Loss: 0.008097\n",
            "\n",
            "Test Accuracy of cloudy: 99% (429/432)\n",
            "Test Accuracy of desert: 100% (101/101)\n",
            "Test Accuracy of green_area: 99% (413/416)\n",
            "Test Accuracy of water: 99% (425/427)\n",
            "\n",
            " Test Accuracy (overall): 99.4186 (1368.0/1376.0)\n"
          ]
        },
        {
          "output_type": "stream",
          "name": "stderr",
          "text": [
            "\r 86%|████████▋ | 44/51 [07:54<01:04,  9.18s/it]"
          ]
        },
        {
          "output_type": "stream",
          "name": "stdout",
          "text": [
            "Test Loss: 0.007946\n",
            "\n",
            "Test Accuracy of cloudy: 99% (438/441)\n",
            "Test Accuracy of desert: 100% (103/103)\n",
            "Test Accuracy of green_area: 99% (424/427)\n",
            "Test Accuracy of water: 99% (435/437)\n",
            "\n",
            " Test Accuracy (overall): 99.4318 (1400.0/1408.0)\n"
          ]
        },
        {
          "output_type": "stream",
          "name": "stderr",
          "text": [
            "\r 88%|████████▊ | 45/51 [08:13<01:11, 11.97s/it]"
          ]
        },
        {
          "output_type": "stream",
          "name": "stdout",
          "text": [
            "Test Loss: 0.007954\n",
            "\n",
            "Test Accuracy of cloudy: 99% (449/452)\n",
            "Test Accuracy of desert: 100% (107/107)\n",
            "Test Accuracy of green_area: 99% (435/438)\n",
            "Test Accuracy of water: 99% (441/443)\n",
            "\n",
            " Test Accuracy (overall): 99.4444 (1432.0/1440.0)\n"
          ]
        },
        {
          "output_type": "stream",
          "name": "stderr",
          "text": [
            "\r 90%|█████████ | 46/51 [08:17<00:48,  9.62s/it]"
          ]
        },
        {
          "output_type": "stream",
          "name": "stdout",
          "text": [
            "Test Loss: 0.007834\n",
            "\n",
            "Test Accuracy of cloudy: 99% (453/456)\n",
            "Test Accuracy of desert: 100% (112/112)\n",
            "Test Accuracy of green_area: 99% (444/447)\n",
            "Test Accuracy of water: 99% (455/457)\n",
            "\n",
            " Test Accuracy (overall): 99.4565 (1464.0/1472.0)\n"
          ]
        },
        {
          "output_type": "stream",
          "name": "stderr",
          "text": [
            "\r 92%|█████████▏| 47/51 [08:34<00:46, 11.71s/it]"
          ]
        },
        {
          "output_type": "stream",
          "name": "stdout",
          "text": [
            "Test Loss: 0.008947\n",
            "\n",
            "Test Accuracy of cloudy: 99% (464/468)\n",
            "Test Accuracy of desert: 100% (115/115)\n",
            "Test Accuracy of green_area: 99% (454/457)\n",
            "Test Accuracy of water: 99% (462/464)\n",
            "\n",
            " Test Accuracy (overall): 99.4016 (1495.0/1504.0)\n"
          ]
        },
        {
          "output_type": "stream",
          "name": "stderr",
          "text": [
            "\r 94%|█████████▍| 48/51 [08:39<00:29,  9.81s/it]"
          ]
        },
        {
          "output_type": "stream",
          "name": "stdout",
          "text": [
            "Test Loss: 0.007721\n",
            "\n",
            "Test Accuracy of cloudy: 99% (472/476)\n",
            "Test Accuracy of desert: 100% (122/122)\n",
            "Test Accuracy of green_area: 99% (464/467)\n",
            "Test Accuracy of water: 99% (469/471)\n",
            "\n",
            " Test Accuracy (overall): 99.4141 (1527.0/1536.0)\n"
          ]
        },
        {
          "output_type": "stream",
          "name": "stderr",
          "text": [
            "\r 96%|█████████▌| 49/51 [08:56<00:23, 11.96s/it]"
          ]
        },
        {
          "output_type": "stream",
          "name": "stdout",
          "text": [
            "Test Loss: 0.007624\n",
            "\n",
            "Test Accuracy of cloudy: 99% (478/482)\n",
            "Test Accuracy of desert: 100% (125/125)\n",
            "Test Accuracy of green_area: 99% (476/479)\n",
            "Test Accuracy of water: 99% (480/482)\n",
            "\n",
            " Test Accuracy (overall): 99.4260 (1559.0/1568.0)\n"
          ]
        },
        {
          "output_type": "stream",
          "name": "stderr",
          "text": [
            "\r 98%|█████████▊| 50/51 [09:01<00:09,  9.71s/it]"
          ]
        },
        {
          "output_type": "stream",
          "name": "stdout",
          "text": [
            "Test Loss: 0.007776\n",
            "\n",
            "Test Accuracy of cloudy: 99% (487/491)\n",
            "Test Accuracy of desert: 100% (125/125)\n",
            "Test Accuracy of green_area: 99% (488/491)\n",
            "Test Accuracy of water: 99% (491/493)\n",
            "\n",
            " Test Accuracy (overall): 99.4375 (1591.0/1600.0)\n"
          ]
        },
        {
          "output_type": "stream",
          "name": "stderr",
          "text": [
            "100%|██████████| 51/51 [09:17<00:00, 10.93s/it]"
          ]
        },
        {
          "output_type": "stream",
          "name": "stdout",
          "text": [
            "Test Loss: 0.007662\n",
            "\n",
            "Test Accuracy of cloudy: 99% (487/491)\n",
            "Test Accuracy of desert: 100% (125/125)\n",
            "Test Accuracy of green_area: 99% (488/491)\n",
            "Test Accuracy of water: 99% (491/493)\n",
            "\n",
            " Test Accuracy (overall): 99.4375 (1591.0/1600.0)\n"
          ]
        },
        {
          "output_type": "stream",
          "name": "stderr",
          "text": [
            "\n"
          ]
        }
      ]
    },
    {
      "cell_type": "code",
      "source": [
        "torch.save(model_trained, '/content/gdrive/MyDrive/Kaggle/satellite.pth' )"
      ],
      "metadata": {
        "id": "E1nowsnIdBGn"
      },
      "execution_count": 34,
      "outputs": []
    }
  ]
}